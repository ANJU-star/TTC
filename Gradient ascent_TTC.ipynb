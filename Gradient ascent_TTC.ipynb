{
 "cells": [
  {
   "cell_type": "code",
   "execution_count": 1,
   "metadata": {},
   "outputs": [],
   "source": [
    "import pandas as pd\n",
    "import numpy as np\n",
    "import matplotlib.pyplot as plt\n",
    "from datetime import datetime as dt\n",
    "import seaborn as sns"
   ]
  },
  {
   "cell_type": "code",
   "execution_count": 2,
   "metadata": {},
   "outputs": [],
   "source": [
    "df = pd.read_excel(\"ttc-subway-delay-data-2022.xlsx\")"
   ]
  },
  {
   "cell_type": "code",
   "execution_count": 3,
   "metadata": {},
   "outputs": [
    {
     "data": {
      "text/html": [
       "<div>\n",
       "<style scoped>\n",
       "    .dataframe tbody tr th:only-of-type {\n",
       "        vertical-align: middle;\n",
       "    }\n",
       "\n",
       "    .dataframe tbody tr th {\n",
       "        vertical-align: top;\n",
       "    }\n",
       "\n",
       "    .dataframe thead th {\n",
       "        text-align: right;\n",
       "    }\n",
       "</style>\n",
       "<table border=\"1\" class=\"dataframe\">\n",
       "  <thead>\n",
       "    <tr style=\"text-align: right;\">\n",
       "      <th></th>\n",
       "      <th>Date</th>\n",
       "      <th>Time</th>\n",
       "      <th>Day</th>\n",
       "      <th>Station</th>\n",
       "      <th>Code</th>\n",
       "      <th>Min Delay</th>\n",
       "      <th>Min Gap</th>\n",
       "      <th>Bound</th>\n",
       "      <th>Line</th>\n",
       "      <th>Vehicle</th>\n",
       "    </tr>\n",
       "  </thead>\n",
       "  <tbody>\n",
       "    <tr>\n",
       "      <th>0</th>\n",
       "      <td>2022-01-01</td>\n",
       "      <td>15:59</td>\n",
       "      <td>Saturday</td>\n",
       "      <td>LAWRENCE EAST STATION</td>\n",
       "      <td>SRDP</td>\n",
       "      <td>0</td>\n",
       "      <td>0</td>\n",
       "      <td>N</td>\n",
       "      <td>SRT</td>\n",
       "      <td>3023</td>\n",
       "    </tr>\n",
       "    <tr>\n",
       "      <th>1</th>\n",
       "      <td>2022-01-01</td>\n",
       "      <td>02:23</td>\n",
       "      <td>Saturday</td>\n",
       "      <td>SPADINA BD STATION</td>\n",
       "      <td>MUIS</td>\n",
       "      <td>0</td>\n",
       "      <td>0</td>\n",
       "      <td>NaN</td>\n",
       "      <td>BD</td>\n",
       "      <td>0</td>\n",
       "    </tr>\n",
       "    <tr>\n",
       "      <th>2</th>\n",
       "      <td>2022-01-01</td>\n",
       "      <td>22:00</td>\n",
       "      <td>Saturday</td>\n",
       "      <td>KENNEDY SRT STATION TO</td>\n",
       "      <td>MRO</td>\n",
       "      <td>0</td>\n",
       "      <td>0</td>\n",
       "      <td>NaN</td>\n",
       "      <td>SRT</td>\n",
       "      <td>0</td>\n",
       "    </tr>\n",
       "    <tr>\n",
       "      <th>3</th>\n",
       "      <td>2022-01-01</td>\n",
       "      <td>02:28</td>\n",
       "      <td>Saturday</td>\n",
       "      <td>VAUGHAN MC STATION</td>\n",
       "      <td>MUIS</td>\n",
       "      <td>0</td>\n",
       "      <td>0</td>\n",
       "      <td>NaN</td>\n",
       "      <td>YU</td>\n",
       "      <td>0</td>\n",
       "    </tr>\n",
       "    <tr>\n",
       "      <th>4</th>\n",
       "      <td>2022-01-01</td>\n",
       "      <td>02:34</td>\n",
       "      <td>Saturday</td>\n",
       "      <td>EGLINTON STATION</td>\n",
       "      <td>MUATC</td>\n",
       "      <td>0</td>\n",
       "      <td>0</td>\n",
       "      <td>S</td>\n",
       "      <td>YU</td>\n",
       "      <td>5981</td>\n",
       "    </tr>\n",
       "  </tbody>\n",
       "</table>\n",
       "</div>"
      ],
      "text/plain": [
       "        Date   Time       Day                 Station   Code  Min Delay  \\\n",
       "0 2022-01-01  15:59  Saturday   LAWRENCE EAST STATION   SRDP          0   \n",
       "1 2022-01-01  02:23  Saturday      SPADINA BD STATION   MUIS          0   \n",
       "2 2022-01-01  22:00  Saturday  KENNEDY SRT STATION TO    MRO          0   \n",
       "3 2022-01-01  02:28  Saturday      VAUGHAN MC STATION   MUIS          0   \n",
       "4 2022-01-01  02:34  Saturday        EGLINTON STATION  MUATC          0   \n",
       "\n",
       "   Min Gap Bound Line  Vehicle  \n",
       "0        0     N  SRT     3023  \n",
       "1        0   NaN   BD        0  \n",
       "2        0   NaN  SRT        0  \n",
       "3        0   NaN   YU        0  \n",
       "4        0     S   YU     5981  "
      ]
     },
     "execution_count": 3,
     "metadata": {},
     "output_type": "execute_result"
    }
   ],
   "source": [
    "df.head()"
   ]
  },
  {
   "cell_type": "code",
   "execution_count": 4,
   "metadata": {},
   "outputs": [
    {
     "data": {
      "text/plain": [
       "(8414, 10)"
      ]
     },
     "execution_count": 4,
     "metadata": {},
     "output_type": "execute_result"
    }
   ],
   "source": [
    "df.shape"
   ]
  },
  {
   "cell_type": "code",
   "execution_count": 5,
   "metadata": {},
   "outputs": [
    {
     "data": {
      "text/plain": [
       "Bound        2215\n",
       "Line           19\n",
       "Vehicle         0\n",
       "Min Gap         0\n",
       "Min Delay       0\n",
       "Code            0\n",
       "Station         0\n",
       "Day             0\n",
       "Time            0\n",
       "Date            0\n",
       "dtype: int64"
      ]
     },
     "execution_count": 5,
     "metadata": {},
     "output_type": "execute_result"
    }
   ],
   "source": [
    "df.isnull().sum().sort_values(ascending = False)"
   ]
  },
  {
   "cell_type": "code",
   "execution_count": 6,
   "metadata": {},
   "outputs": [
    {
     "data": {
      "text/plain": [
       "Date         datetime64[ns]\n",
       "Time                 object\n",
       "Day                  object\n",
       "Station              object\n",
       "Code                 object\n",
       "Min Delay             int64\n",
       "Min Gap               int64\n",
       "Bound                object\n",
       "Line                 object\n",
       "Vehicle               int64\n",
       "dtype: object"
      ]
     },
     "execution_count": 6,
     "metadata": {},
     "output_type": "execute_result"
    }
   ],
   "source": [
    "df.dtypes"
   ]
  },
  {
   "cell_type": "code",
   "execution_count": 7,
   "metadata": {},
   "outputs": [],
   "source": [
    "df['Vehicle'] = df['Vehicle'].apply(str)"
   ]
  },
  {
   "cell_type": "code",
   "execution_count": 9,
   "metadata": {},
   "outputs": [
    {
     "data": {
      "text/plain": [
       "Date         datetime64[ns]\n",
       "Time         datetime64[ns]\n",
       "Day                  object\n",
       "Station              object\n",
       "Code                 object\n",
       "Min Delay             int64\n",
       "Min Gap               int64\n",
       "Bound                object\n",
       "Line                 object\n",
       "Vehicle              object\n",
       "dtype: object"
      ]
     },
     "execution_count": 9,
     "metadata": {},
     "output_type": "execute_result"
    }
   ],
   "source": [
    "df.dtypes"
   ]
  },
  {
   "cell_type": "code",
   "execution_count": 11,
   "metadata": {},
   "outputs": [
    {
     "data": {
      "text/plain": [
       "Date         datetime64[ns]\n",
       "Time                 object\n",
       "Day                  object\n",
       "Station              object\n",
       "Code                 object\n",
       "Min Delay             int64\n",
       "Min Gap               int64\n",
       "Bound                object\n",
       "Line                 object\n",
       "Vehicle              object\n",
       "dtype: object"
      ]
     },
     "execution_count": 11,
     "metadata": {},
     "output_type": "execute_result"
    }
   ],
   "source": [
    "df.dtypes"
   ]
  },
  {
   "cell_type": "code",
   "execution_count": 13,
   "metadata": {},
   "outputs": [
    {
     "data": {
      "text/plain": [
       "Bound        2215\n",
       "Line           19\n",
       "Vehicle         0\n",
       "Min Gap         0\n",
       "Min Delay       0\n",
       "Code            0\n",
       "Station         0\n",
       "Day             0\n",
       "Time            0\n",
       "Date            0\n",
       "dtype: int64"
      ]
     },
     "execution_count": 13,
     "metadata": {},
     "output_type": "execute_result"
    }
   ],
   "source": [
    "df.isnull().sum().sort_values(ascending = False)"
   ]
  },
  {
   "cell_type": "code",
   "execution_count": 15,
   "metadata": {},
   "outputs": [
    {
     "data": {
      "text/plain": [
       "{'FINCH STATION': 574,\n",
       " 'EGLINTON STATION': 363,\n",
       " 'VAUGHAN MC STATION': 352,\n",
       " 'BLOOR STATION': 285,\n",
       " 'KENNEDY BD STATION': 243,\n",
       " 'ST GEORGE YUS STATION': 232,\n",
       " 'KIPLING STATION': 223,\n",
       " 'DUNDAS STATION': 187,\n",
       " 'YONGE BD STATION': 168,\n",
       " 'UNION STATION': 153,\n",
       " 'WARDEN STATION': 147,\n",
       " 'YONGE-UNIVERSITY AND B': 137,\n",
       " 'WILSON STATION': 136,\n",
       " 'MCCOWAN STATION': 132,\n",
       " 'ST CLAIR STATION': 127,\n",
       " 'SPADINA YUS STATION': 126,\n",
       " 'SHEPPARD-YONGE STATION': 123,\n",
       " 'ST CLAIR WEST STATION': 120,\n",
       " 'WELLESLEY STATION': 119,\n",
       " 'YORK MILLS STATION': 117,\n",
       " 'LAWRENCE STATION': 113,\n",
       " 'YORKDALE STATION': 110,\n",
       " 'QUEEN STATION': 103,\n",
       " 'VICTORIA PARK STATION': 102,\n",
       " 'COLLEGE STATION': 101,\n",
       " 'KENNEDY SRT STATION': 101,\n",
       " 'SHEPPARD WEST STATION': 101,\n",
       " 'HIGHWAY 407 STATION': 98,\n",
       " 'SPADINA BD STATION': 98,\n",
       " 'SHEPPARD STATION': 97,\n",
       " 'ISLINGTON STATION': 95,\n",
       " 'DON MILLS STATION': 90,\n",
       " 'ST GEORGE BD STATION': 88,\n",
       " 'BROADVIEW STATION': 87,\n",
       " 'DAVISVILLE STATION': 87,\n",
       " 'SHERBOURNE STATION': 86,\n",
       " 'PAPE STATION': 84,\n",
       " 'MAIN STREET STATION': 83,\n",
       " 'LAWRENCE WEST STATION': 83,\n",
       " 'COXWELL STATION': 82,\n",
       " 'KEELE STATION': 81,\n",
       " 'DUNDAS WEST STATION': 80,\n",
       " 'DUFFERIN STATION': 79,\n",
       " 'EGLINTON WEST STATION': 71,\n",
       " 'KENNEDY SRT STATION TO': 69,\n",
       " 'OSSINGTON STATION': 69,\n",
       " 'NORTH YORK CTR STATION': 69,\n",
       " 'FINCH WEST STATION': 68,\n",
       " 'KING STATION': 65,\n",
       " 'ROYAL YORK STATION': 65,\n",
       " 'LESLIE STATION': 62,\n",
       " 'GREENWOOD STATION': 59,\n",
       " 'WOODBINE STATION': 59,\n",
       " 'DUPONT STATION': 55,\n",
       " 'BATHURST STATION': 53,\n",
       " 'ROSEDALE STATION': 53,\n",
       " 'SCARBOROUGH CTR STATIO': 53,\n",
       " 'BAYVIEW STATION': 52,\n",
       " 'CHRISTIE STATION': 52,\n",
       " 'JANE STATION': 51,\n",
       " 'DOWNSVIEW PARK STATION': 47,\n",
       " 'LAWRENCE EAST STATION': 47,\n",
       " 'GLENCAIRN STATION': 46,\n",
       " 'ST ANDREW STATION': 46,\n",
       " 'CHESTER STATION': 46,\n",
       " 'DONLANDS STATION': 46,\n",
       " 'MUSEUM STATION': 45,\n",
       " 'BAY STATION': 45,\n",
       " 'HIGH PARK STATION': 43,\n",
       " 'ST PATRICK STATION': 43,\n",
       " 'PIONEER VILLAGE STATIO': 43,\n",
       " 'SCARBOROUGH RAPID TRAN': 43,\n",
       " 'CASTLE FRANK STATION': 42,\n",
       " 'SUMMERHILL STATION': 41,\n",
       " 'LANSDOWNE STATION': 38,\n",
       " 'OSGOODE STATION': 37,\n",
       " 'BLOOR DANFORTH LINE': 35,\n",
       " \"QUEEN'S PARK STATION\": 35,\n",
       " 'EGLINTON STATION (MIGR': 34,\n",
       " 'YORK UNIVERSITY STATIO': 31,\n",
       " 'RUNNYMEDE STATION': 30,\n",
       " 'OLD MILL STATION': 26,\n",
       " 'BESSARION STATION': 24,\n",
       " 'MIDLAND STATION': 23,\n",
       " 'YONGE UNIVERSITY LINE': 22,\n",
       " 'TORONTO TRANSIT COMMIS': 20,\n",
       " 'ELLESMERE STATION': 18,\n",
       " 'EGLINTON (MIGRATION)': 16,\n",
       " 'YONGE-UNIVERSITY SUBWA': 12,\n",
       " 'YONGE/UNIVERSITY AND B': 11,\n",
       " 'WILSON YARD': 11,\n",
       " 'GREENWOOD YARD': 7,\n",
       " 'LAWRENCE TO ST CLAIR S': 7,\n",
       " 'UNION STATION TO ST AN': 7,\n",
       " 'LAWRENCE EAST TO KENNE': 5,\n",
       " 'YONGE UNIVERSITY SPADI': 5,\n",
       " 'LINE 3 - SCARBOROUGH R': 4,\n",
       " 'YONGE-UNIVERSITY/BLOOR': 4,\n",
       " 'TRANSIT CONTROL CENTRE': 3,\n",
       " 'DAVISVILLE CARHOUSE': 3,\n",
       " \"QUEEN'S QUAY - UNION\": 3,\n",
       " 'MCCOWAN YARD': 3,\n",
       " 'WILSON CARHOUSE': 3,\n",
       " 'GREENWOOD WYE': 3,\n",
       " 'UNION STATION TO KING': 3,\n",
       " 'KEELE YARD': 3,\n",
       " 'YONGE-UNIVERSITY LINE': 2,\n",
       " 'DAVISVILLE YARD': 2,\n",
       " 'WOODBINE TO BROADVIEW': 2,\n",
       " 'DANFORTH DIVISION': 2,\n",
       " 'SPADINA STATION': 2,\n",
       " 'YONGE STATION': 2,\n",
       " 'FINCH STATION TO EGLIN': 2,\n",
       " 'BAY LOWER STATION': 2,\n",
       " 'TRANSIT CONTROL': 2,\n",
       " 'SCARBOROUGH CENTRE STA': 2,\n",
       " 'ST CLAIR STATION (APPR': 2,\n",
       " 'BLOOR DANFORTH SUBWAY': 2,\n",
       " 'GUNN BUILDING': 2,\n",
       " 'BROADVIEW TO WOODBINE': 2,\n",
       " 'MCBRIEN BUILDING': 2,\n",
       " 'UNION STATION (TO KING': 2,\n",
       " 'ST CLAIR TO FINCH STAT': 2,\n",
       " 'UNION STATION TOWARDS': 1,\n",
       " 'GREENWOOD CARHOUSE': 1,\n",
       " 'LAWRECNE WEST TO FINCH': 1,\n",
       " 'UNION STATION(TOWARD K': 1,\n",
       " 'SYSTEM WIDE': 1,\n",
       " 'BLOOR-DANFORTH LINE': 1,\n",
       " 'SHEPPARD-YONGE AND DON': 1,\n",
       " 'N/B TOWARDS FINCH': 1,\n",
       " 'KIPLING TO JANE': 1,\n",
       " 'WILSON TO ST CLAIR STA': 1,\n",
       " 'BROADVIEW CENTRE TRACK': 1,\n",
       " 'ST ANDREW STATON': 1,\n",
       " 'MIGRATION POINT EGLINT': 1,\n",
       " 'MCCOWAN TO KENNEDY STA': 1,\n",
       " 'SHEPPARD WEST TO ST CL': 1,\n",
       " 'YONGE STATION TO GREEN': 1,\n",
       " 'N/O SUMMERHILL TO S/O': 1,\n",
       " 'WILSON NORTH HOSTLER': 1,\n",
       " 'YONGE-UNIVERSITY-SPADI': 1,\n",
       " 'GREENWOOD PORTAL': 1,\n",
       " 'KENNEDY SRT STATION LA': 1,\n",
       " 'COLLEGE TO KING': 1,\n",
       " 'GLENAYR EMERGENCY EXIT': 1,\n",
       " 'BAY LOWER': 1,\n",
       " 'UNION TO KING': 1,\n",
       " 'YORK MILLS (APPROACHIN': 1,\n",
       " 'ST. GEORGE STATION': 1,\n",
       " 'YONGE - UNIVERSITY SUB': 1,\n",
       " 'VMC TO LAWRENCE': 1,\n",
       " 'KING TO COLLEGE': 1,\n",
       " 'LAWRENCE WEST TO FINCH': 1,\n",
       " 'SHEPPARD LINE': 1,\n",
       " 'WILSON SOUTH HOSTLER': 1,\n",
       " 'MCCOWAN CARHOUSE': 1,\n",
       " 'YONGE-UNIVERSITY SPADI': 1,\n",
       " 'MUSEUM TO EGLINTON STA': 1,\n",
       " 'GLENCARIN STATION': 1,\n",
       " 'VICTORIA PARK TO WARDE': 1,\n",
       " 'BAYVIEW TO BESSARION': 1,\n",
       " 'CHESTER CENTRE TRACK': 1,\n",
       " 'NORTH HOSTLER': 1,\n",
       " 'EGLINTON PSUDO STATION': 1,\n",
       " 'WARDEN AND ST CLAIR': 1,\n",
       " 'SHEPPARD-YONGE LINE 4': 1,\n",
       " 'TORONTO TRANSIC COMMIS': 1,\n",
       " 'CLOSURE FINCH TO ST CL': 1,\n",
       " 'SHEPPARD DISTRUBTION': 1,\n",
       " 'GUNN BUILDING - 3RD FL': 1,\n",
       " 'MIDLAND TO SCARBOROUGH': 1,\n",
       " 'SHEPPARD WEST TO UNION': 1,\n",
       " 'DUFFERIN AND BLOOR': 1,\n",
       " 'DOWNVIEW PARK STATION': 1,\n",
       " 'MAINLINE STORAGE': 1}"
      ]
     },
     "execution_count": 15,
     "metadata": {},
     "output_type": "execute_result"
    }
   ],
   "source": [
    "df.Station.value_counts().to_dict()"
   ]
  },
  {
   "cell_type": "code",
   "execution_count": 16,
   "metadata": {},
   "outputs": [
    {
     "data": {
      "text/plain": [
       "{'SUDP': 871,\n",
       " 'MUIS': 799,\n",
       " 'PUOPO': 545,\n",
       " 'MUPAA': 514,\n",
       " 'SUO': 390,\n",
       " 'MUATC': 390,\n",
       " 'MUIRS': 343,\n",
       " 'MUO': 328,\n",
       " 'TUNOA': 320,\n",
       " 'SUAP': 230,\n",
       " 'SUUT': 226,\n",
       " 'MUSC': 207,\n",
       " 'PUMEL': 184,\n",
       " 'MUNCA': 167,\n",
       " 'MUIR': 146,\n",
       " 'MRO': 145,\n",
       " 'TUMVS': 131,\n",
       " 'MUI': 127,\n",
       " 'MUSAN': 123,\n",
       " 'TUO': 109,\n",
       " 'EUSC': 108,\n",
       " 'SUAE': 103,\n",
       " 'MUTO': 100,\n",
       " 'TUSC': 96,\n",
       " 'TUNIP': 61,\n",
       " 'MUDD': 58,\n",
       " 'PUMST': 57,\n",
       " 'EUDO': 56,\n",
       " 'MRTO': 53,\n",
       " 'TUOS': 53,\n",
       " 'MUIE': 51,\n",
       " 'PUSTS': 43,\n",
       " 'SUEAS': 43,\n",
       " 'MUD': 41,\n",
       " 'PUSIS': 38,\n",
       " 'PUTWZ': 37,\n",
       " 'SUPOL': 36,\n",
       " 'ERDO': 35,\n",
       " 'EUNT': 34,\n",
       " 'ERTC': 33,\n",
       " 'PUMO': 33,\n",
       " 'TUST': 29,\n",
       " 'MUPLB': 27,\n",
       " 'MUWEA': 27,\n",
       " 'MRWEA': 26,\n",
       " 'TUATC': 26,\n",
       " 'MUNOA': 25,\n",
       " 'MUPR1': 24,\n",
       " 'SUROB': 22,\n",
       " 'TUSUP': 22,\n",
       " 'PUSSW': 20,\n",
       " 'ERCD': 20,\n",
       " 'PUSO': 19,\n",
       " 'EUBK': 18,\n",
       " 'PUSTC': 17,\n",
       " 'EUME': 17,\n",
       " 'MRUI': 17,\n",
       " 'TUCC': 17,\n",
       " 'MUCL': 16,\n",
       " 'MUWR': 16,\n",
       " 'SRDP': 15,\n",
       " 'TRO': 15,\n",
       " 'MUPLC': 15,\n",
       " 'TRST': 14,\n",
       " 'TUML': 14,\n",
       " 'SUG': 14,\n",
       " 'SUSA': 13,\n",
       " 'PREL': 12,\n",
       " 'MUTD': 12,\n",
       " 'MRPAA': 12,\n",
       " 'PUTIS': 12,\n",
       " 'TUS': 11,\n",
       " 'PUSI': 11,\n",
       " 'SRO': 11,\n",
       " 'ERPR': 11,\n",
       " 'PUSAC': 11,\n",
       " 'PUTD': 10,\n",
       " 'EUBO': 10,\n",
       " 'EUYRD': 10,\n",
       " 'EUCD': 10,\n",
       " 'PUTDN': 9,\n",
       " 'SUSP': 9,\n",
       " 'EUVE': 9,\n",
       " 'SUBT': 9,\n",
       " 'EUOE': 9,\n",
       " 'EUO': 9,\n",
       " 'EUPI': 9,\n",
       " 'EUTR': 9,\n",
       " 'PUTOE': 8,\n",
       " 'PUEO': 8,\n",
       " 'PUTR': 8,\n",
       " 'PUTO': 8,\n",
       " 'TRNCA': 7,\n",
       " 'EUAC': 7,\n",
       " 'SRAE': 7,\n",
       " 'PUSNT': 6,\n",
       " 'EULV': 6,\n",
       " 'EUOPO': 6,\n",
       " 'PUSCR': 6,\n",
       " 'PUCSS': 5,\n",
       " 'PUSRA': 5,\n",
       " 'TUOPO': 5,\n",
       " 'PUCSC': 4,\n",
       " 'PUTIJ': 4,\n",
       " 'EUTRD': 4,\n",
       " 'PRO': 4,\n",
       " 'ERRA': 4,\n",
       " 'TRNOA': 4,\n",
       " 'MUGD': 4,\n",
       " 'MRDD': 4,\n",
       " 'MRCL': 4,\n",
       " 'PRSL': 4,\n",
       " 'EUVA': 3,\n",
       " 'PRSW': 3,\n",
       " 'ERBO': 3,\n",
       " 'ERDB': 3,\n",
       " 'ERCO': 3,\n",
       " 'TRNIP': 3,\n",
       " 'EUCA': 3,\n",
       " 'PRSO': 3,\n",
       " 'PRS': 3,\n",
       " 'MRPLB': 3,\n",
       " 'SREAS': 3,\n",
       " 'EUTM': 3,\n",
       " 'MRPLA': 3,\n",
       " 'TUDOE': 3,\n",
       " 'SRSA': 2,\n",
       " 'SRAP': 2,\n",
       " 'ERAC': 2,\n",
       " 'EUTL': 2,\n",
       " 'ERTB': 2,\n",
       " 'MRIE': 2,\n",
       " 'EUCO': 2,\n",
       " 'SRUT': 2,\n",
       " 'PUTSC': 2,\n",
       " 'MUPLA': 2,\n",
       " 'TUKEY': 2,\n",
       " 'TUNCA': 2,\n",
       " 'PRST': 2,\n",
       " 'PUSZC': 2,\n",
       " 'MRNOA': 2,\n",
       " 'PUTTC': 2,\n",
       " 'PUSWZ': 2,\n",
       " 'MRUIR': 2,\n",
       " 'MUFM': 2,\n",
       " 'PUSTP': 1,\n",
       " 'TUSET': 1,\n",
       " 'ERO': 1,\n",
       " 'EUAL': 1,\n",
       " 'PUTS': 1,\n",
       " 'PUSBE': 1,\n",
       " 'MUFS': 1,\n",
       " 'TRTC': 1,\n",
       " 'MUEC': 1,\n",
       " 'MRSAN': 1,\n",
       " 'PUTTP': 1,\n",
       " 'MUESA': 1,\n",
       " 'ERNT': 1,\n",
       " 'PUTSM': 1,\n",
       " 'ERLV': 1,\n",
       " 'EUATC': 1,\n",
       " 'ERHV': 1,\n",
       " 'PUEWZ': 1}"
      ]
     },
     "execution_count": 16,
     "metadata": {},
     "output_type": "execute_result"
    }
   ],
   "source": [
    "df.Code.value_counts().to_dict()"
   ]
  },
  {
   "cell_type": "code",
   "execution_count": 17,
   "metadata": {},
   "outputs": [
    {
     "data": {
      "text/plain": [
       "{'YU': 4748,\n",
       " 'BD': 2620,\n",
       " 'SRT': 510,\n",
       " 'SHP': 362,\n",
       " 'YU/BD': 143,\n",
       " 'YU / BD': 6,\n",
       " 'BD/YU': 3,\n",
       " 'YU/ BD': 1,\n",
       " 'B/D': 1,\n",
       " 'Y/BD': 1}"
      ]
     },
     "execution_count": 17,
     "metadata": {},
     "output_type": "execute_result"
    }
   ],
   "source": [
    "df.Line.value_counts().to_dict()"
   ]
  },
  {
   "cell_type": "markdown",
   "metadata": {},
   "source": [
    "## Encoding of Categorical values"
   ]
  },
  {
   "cell_type": "code",
   "execution_count": null,
   "metadata": {},
   "outputs": [],
   "source": [
    "#we can use one hot"
   ]
  },
  {
   "cell_type": "code",
   "execution_count": null,
   "metadata": {},
   "outputs": [],
   "source": []
  },
  {
   "cell_type": "code",
   "execution_count": null,
   "metadata": {},
   "outputs": [],
   "source": []
  },
  {
   "cell_type": "code",
   "execution_count": null,
   "metadata": {},
   "outputs": [],
   "source": []
  },
  {
   "cell_type": "code",
   "execution_count": null,
   "metadata": {},
   "outputs": [],
   "source": []
  },
  {
   "cell_type": "markdown",
   "metadata": {},
   "source": [
    "## Working with Dates and Time Series Data\n",
    "https://www.youtube.com/watch?v=UFuo7EHI8zc"
   ]
  },
  {
   "cell_type": "code",
   "execution_count": null,
   "metadata": {},
   "outputs": [],
   "source": [
    "df.loc[0,'Date'].day_name()#making sure that it is a date object"
   ]
  },
  {
   "cell_type": "code",
   "execution_count": null,
   "metadata": {},
   "outputs": [],
   "source": [
    "#if it is not in datetime format, then df['Date']=pd.to_datetime(df['Date'])"
   ]
  },
  {
   "cell_type": "code",
   "execution_count": null,
   "metadata": {},
   "outputs": [],
   "source": [
    "df['Date'].min()"
   ]
  },
  {
   "cell_type": "code",
   "execution_count": null,
   "metadata": {},
   "outputs": [],
   "source": [
    "df['Date'].max()"
   ]
  },
  {
   "cell_type": "code",
   "execution_count": null,
   "metadata": {},
   "outputs": [],
   "source": [
    "df['Date'].max() - df['Date'].min()"
   ]
  },
  {
   "cell_type": "code",
   "execution_count": null,
   "metadata": {},
   "outputs": [],
   "source": [
    "filt = (df['Date'] >= '2022')\n",
    "df.loc[filt]"
   ]
  },
  {
   "cell_type": "code",
   "execution_count": null,
   "metadata": {},
   "outputs": [],
   "source": []
  },
  {
   "cell_type": "code",
   "execution_count": null,
   "metadata": {},
   "outputs": [],
   "source": [
    "df.info()"
   ]
  },
  {
   "cell_type": "code",
   "execution_count": null,
   "metadata": {},
   "outputs": [],
   "source": [
    "df.dtypes"
   ]
  },
  {
   "cell_type": "code",
   "execution_count": null,
   "metadata": {},
   "outputs": [],
   "source": [
    "df.head()"
   ]
  },
  {
   "cell_type": "code",
   "execution_count": null,
   "metadata": {},
   "outputs": [],
   "source": [
    "df['Time'] = df['Time'].dt.time#extract time only from datetime object"
   ]
  },
  {
   "cell_type": "code",
   "execution_count": null,
   "metadata": {},
   "outputs": [],
   "source": [
    "df.head()"
   ]
  },
  {
   "cell_type": "markdown",
   "metadata": {},
   "source": [
    "## Visualization\n",
    "https://www.geeksforgeeks.org/time-series-data-visualization-in-python/"
   ]
  },
  {
   "cell_type": "markdown",
   "metadata": {},
   "source": [
    "### Relationship with numerical data"
   ]
  },
  {
   "cell_type": "code",
   "execution_count": null,
   "metadata": {},
   "outputs": [],
   "source": [
    "sns.distplot(df['Min Gap']);"
   ]
  },
  {
   "cell_type": "code",
   "execution_count": null,
   "metadata": {},
   "outputs": [],
   "source": [
    "#skewness and kurtosis\n",
    "print(\"Skewness: %f\" % df['Min Gap'].skew())\n",
    "print(\"Kurtosis: %f\" % df['Min Gap'].kurt())"
   ]
  },
  {
   "cell_type": "code",
   "execution_count": null,
   "metadata": {},
   "outputs": [],
   "source": [
    "sns.distplot(df['Min Delay']);"
   ]
  },
  {
   "cell_type": "code",
   "execution_count": null,
   "metadata": {},
   "outputs": [],
   "source": [
    "#skewness and kurtosis\n",
    "print(\"Skewness: %f\" % df['Min Delay'].skew())\n",
    "print(\"Kurtosis: %f\" % df['Min Delay'].kurt())"
   ]
  },
  {
   "cell_type": "code",
   "execution_count": null,
   "metadata": {},
   "outputs": [],
   "source": [
    "sns.barplot(x = 'Day',y = 'Min Delay',data = df)\n",
    "plt.show()"
   ]
  },
  {
   "cell_type": "code",
   "execution_count": null,
   "metadata": {},
   "outputs": [],
   "source": [
    "sns.barplot(x = 'Day',y = 'Min Gap',data = df)\n",
    "plt.show()"
   ]
  },
  {
   "cell_type": "code",
   "execution_count": null,
   "metadata": {},
   "outputs": [],
   "source": [
    "sns.barplot(x = 'Bound',y = 'Min Delay',data = df)\n",
    "plt.show()"
   ]
  },
  {
   "cell_type": "code",
   "execution_count": null,
   "metadata": {},
   "outputs": [],
   "source": [
    "sns.barplot(x = 'Station',y = 'Min Delay',data = df)\n",
    "plt.show()"
   ]
  },
  {
   "cell_type": "code",
   "execution_count": null,
   "metadata": {},
   "outputs": [],
   "source": [
    "df['Station'].unique()"
   ]
  },
  {
   "cell_type": "code",
   "execution_count": null,
   "metadata": {},
   "outputs": [],
   "source": [
    "df['Vehicle'].unique()"
   ]
  },
  {
   "cell_type": "code",
   "execution_count": null,
   "metadata": {},
   "outputs": [],
   "source": [
    "df['Date'].unique()"
   ]
  },
  {
   "cell_type": "code",
   "execution_count": null,
   "metadata": {},
   "outputs": [],
   "source": [
    "df['Time'].unique()"
   ]
  },
  {
   "cell_type": "code",
   "execution_count": null,
   "metadata": {},
   "outputs": [],
   "source": [
    "df['Day'].unique()"
   ]
  },
  {
   "cell_type": "code",
   "execution_count": null,
   "metadata": {
    "scrolled": true
   },
   "outputs": [],
   "source": [
    "df['Code'].unique()"
   ]
  },
  {
   "cell_type": "code",
   "execution_count": null,
   "metadata": {},
   "outputs": [],
   "source": [
    "df['Bound'].unique()"
   ]
  },
  {
   "cell_type": "code",
   "execution_count": null,
   "metadata": {},
   "outputs": [],
   "source": [
    "df['Line'].unique()"
   ]
  },
  {
   "cell_type": "code",
   "execution_count": null,
   "metadata": {},
   "outputs": [],
   "source": [
    "sns.boxplot(data = df, x='Day', y='Min Delay')"
   ]
  },
  {
   "cell_type": "code",
   "execution_count": null,
   "metadata": {},
   "outputs": [],
   "source": [
    "sns.barplot(x = 'Bound',y = 'Min Delay',data = df)\n",
    "plt.show()"
   ]
  },
  {
   "cell_type": "code",
   "execution_count": null,
   "metadata": {},
   "outputs": [],
   "source": [
    "sns.barplot(x = 'Line',y = 'Min Delay',data = df)\n",
    "plt.show()"
   ]
  },
  {
   "cell_type": "code",
   "execution_count": null,
   "metadata": {},
   "outputs": [],
   "source": [
    "sns.barplot(x = 'Code',y = 'Min Delay',data = df)\n",
    "plt.show()"
   ]
  },
  {
   "cell_type": "code",
   "execution_count": null,
   "metadata": {},
   "outputs": [],
   "source": []
  },
  {
   "cell_type": "code",
   "execution_count": null,
   "metadata": {},
   "outputs": [],
   "source": [
    "print(df.loc[:,['Line','Min Delay']])"
   ]
  },
  {
   "cell_type": "code",
   "execution_count": null,
   "metadata": {},
   "outputs": [],
   "source": [
    "df.plot(\n",
    "   x='Vehicle', \n",
    "   y='Min Delay', \n",
    "   kind='scatter'\n",
    ")\n",
    "\n",
    "plt.show()"
   ]
  },
  {
   "cell_type": "code",
   "execution_count": null,
   "metadata": {},
   "outputs": [],
   "source": [
    "df.plot(\n",
    "   x='Min Gap', \n",
    "   y='Min Delay', \n",
    "   kind='scatter'\n",
    ")\n",
    "\n",
    "plt.show()"
   ]
  },
  {
   "cell_type": "code",
   "execution_count": null,
   "metadata": {},
   "outputs": [],
   "source": [
    "code_delay = df.loc[:,['Code','Min Delay']]"
   ]
  },
  {
   "cell_type": "code",
   "execution_count": null,
   "metadata": {},
   "outputs": [],
   "source": [
    "code_delay.head()"
   ]
  },
  {
   "cell_type": "code",
   "execution_count": null,
   "metadata": {},
   "outputs": [],
   "source": [
    "cd = code_delay.groupby('Code').mean()"
   ]
  },
  {
   "cell_type": "code",
   "execution_count": null,
   "metadata": {},
   "outputs": [],
   "source": [
    "cd"
   ]
  },
  {
   "cell_type": "code",
   "execution_count": null,
   "metadata": {},
   "outputs": [],
   "source": [
    "print(cd['Min Delay'].sort_values(ascending = False))"
   ]
  },
  {
   "cell_type": "code",
   "execution_count": null,
   "metadata": {},
   "outputs": [],
   "source": [
    "df[df['Code'] == 'MUEC']"
   ]
  },
  {
   "cell_type": "code",
   "execution_count": null,
   "metadata": {},
   "outputs": [],
   "source": [
    "line_delay = df.loc[:,['Line','Min Delay']]"
   ]
  },
  {
   "cell_type": "code",
   "execution_count": null,
   "metadata": {},
   "outputs": [],
   "source": [
    "line_delay.head()"
   ]
  },
  {
   "cell_type": "code",
   "execution_count": null,
   "metadata": {},
   "outputs": [],
   "source": [
    "ld = line_delay.groupby('Line').mean()"
   ]
  },
  {
   "cell_type": "code",
   "execution_count": null,
   "metadata": {},
   "outputs": [],
   "source": [
    "ld"
   ]
  },
  {
   "cell_type": "code",
   "execution_count": null,
   "metadata": {},
   "outputs": [],
   "source": [
    "print(ld['Min Delay'].sort_values(ascending = False))"
   ]
  },
  {
   "cell_type": "code",
   "execution_count": null,
   "metadata": {},
   "outputs": [],
   "source": [
    "station_delay = df.loc[:,['Station','Min Delay']]"
   ]
  },
  {
   "cell_type": "code",
   "execution_count": null,
   "metadata": {},
   "outputs": [],
   "source": [
    "station_delay.head()"
   ]
  },
  {
   "cell_type": "code",
   "execution_count": null,
   "metadata": {},
   "outputs": [],
   "source": [
    "sd = station_delay.groupby('Station').mean()"
   ]
  },
  {
   "cell_type": "code",
   "execution_count": null,
   "metadata": {},
   "outputs": [],
   "source": [
    "sd"
   ]
  },
  {
   "cell_type": "code",
   "execution_count": null,
   "metadata": {},
   "outputs": [],
   "source": [
    "print(sd['Min Delay'].sort_values(ascending = False))"
   ]
  },
  {
   "cell_type": "code",
   "execution_count": null,
   "metadata": {},
   "outputs": [],
   "source": [
    "time_delay = df.loc[:,['Date','Time','Min Delay']]"
   ]
  },
  {
   "cell_type": "code",
   "execution_count": null,
   "metadata": {},
   "outputs": [],
   "source": [
    "time_delay.head()"
   ]
  },
  {
   "cell_type": "code",
   "execution_count": null,
   "metadata": {},
   "outputs": [],
   "source": [
    "td = time_delay.groupby('Date').mean()"
   ]
  },
  {
   "cell_type": "code",
   "execution_count": null,
   "metadata": {},
   "outputs": [],
   "source": [
    "td"
   ]
  },
  {
   "cell_type": "code",
   "execution_count": null,
   "metadata": {},
   "outputs": [],
   "source": [
    "print(td['Min Delay'].sort_values(ascending = False))"
   ]
  },
  {
   "cell_type": "code",
   "execution_count": null,
   "metadata": {},
   "outputs": [],
   "source": [
    "df.Station.value_counts()"
   ]
  },
  {
   "cell_type": "code",
   "execution_count": null,
   "metadata": {},
   "outputs": [],
   "source": []
  }
 ],
 "metadata": {
  "kernelspec": {
   "display_name": "Python 3",
   "language": "python",
   "name": "python3"
  },
  "language_info": {
   "codemirror_mode": {
    "name": "ipython",
    "version": 3
   },
   "file_extension": ".py",
   "mimetype": "text/x-python",
   "name": "python",
   "nbconvert_exporter": "python",
   "pygments_lexer": "ipython3",
   "version": "3.7.6"
  }
 },
 "nbformat": 4,
 "nbformat_minor": 4
}

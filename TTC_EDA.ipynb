{
 "cells": [
  {
   "cell_type": "code",
   "execution_count": 121,
   "metadata": {},
   "outputs": [],
   "source": [
    "import pandas as pd\n",
    "import numpy as np\n",
    "import matplotlib.pyplot as plt\n",
    "import seaborn as sns\n",
    "from datetime import time"
   ]
  },
  {
   "cell_type": "code",
   "execution_count": 2,
   "metadata": {},
   "outputs": [],
   "source": [
    "df1 = pd.read_excel(\"ttc-subway-delay-data-2020.xlsx\")"
   ]
  },
  {
   "cell_type": "code",
   "execution_count": 3,
   "metadata": {},
   "outputs": [],
   "source": [
    "df2 = pd.read_excel(\"ttc-subway-delay-data-2021.xlsx\")"
   ]
  },
  {
   "cell_type": "code",
   "execution_count": 4,
   "metadata": {},
   "outputs": [],
   "source": [
    "df3 = pd.read_excel(\"ttc-subway-delay-data-2022.xlsx\")"
   ]
  },
  {
   "cell_type": "code",
   "execution_count": 5,
   "metadata": {},
   "outputs": [
    {
     "data": {
      "text/html": [
       "<div>\n",
       "<style scoped>\n",
       "    .dataframe tbody tr th:only-of-type {\n",
       "        vertical-align: middle;\n",
       "    }\n",
       "\n",
       "    .dataframe tbody tr th {\n",
       "        vertical-align: top;\n",
       "    }\n",
       "\n",
       "    .dataframe thead th {\n",
       "        text-align: right;\n",
       "    }\n",
       "</style>\n",
       "<table border=\"1\" class=\"dataframe\">\n",
       "  <thead>\n",
       "    <tr style=\"text-align: right;\">\n",
       "      <th></th>\n",
       "      <th>Date</th>\n",
       "      <th>Time</th>\n",
       "      <th>Day</th>\n",
       "      <th>Station</th>\n",
       "      <th>Code</th>\n",
       "      <th>Min Delay</th>\n",
       "      <th>Min Gap</th>\n",
       "      <th>Bound</th>\n",
       "      <th>Line</th>\n",
       "      <th>Vehicle</th>\n",
       "    </tr>\n",
       "  </thead>\n",
       "  <tbody>\n",
       "    <tr>\n",
       "      <th>0</th>\n",
       "      <td>2020-01-01</td>\n",
       "      <td>01:18</td>\n",
       "      <td>Wednesday</td>\n",
       "      <td>KENNEDY SRT STATION</td>\n",
       "      <td>SRDP</td>\n",
       "      <td>8</td>\n",
       "      <td>13</td>\n",
       "      <td>N</td>\n",
       "      <td>SRT</td>\n",
       "      <td>3025</td>\n",
       "    </tr>\n",
       "    <tr>\n",
       "      <th>1</th>\n",
       "      <td>2020-01-01</td>\n",
       "      <td>01:27</td>\n",
       "      <td>Wednesday</td>\n",
       "      <td>SHEPPARD WEST STATION</td>\n",
       "      <td>MUI</td>\n",
       "      <td>7</td>\n",
       "      <td>12</td>\n",
       "      <td>S</td>\n",
       "      <td>YU</td>\n",
       "      <td>5591</td>\n",
       "    </tr>\n",
       "    <tr>\n",
       "      <th>2</th>\n",
       "      <td>2020-01-01</td>\n",
       "      <td>02:22</td>\n",
       "      <td>Wednesday</td>\n",
       "      <td>MAIN STREET STATION</td>\n",
       "      <td>EUNT</td>\n",
       "      <td>3</td>\n",
       "      <td>7</td>\n",
       "      <td>W</td>\n",
       "      <td>BD</td>\n",
       "      <td>5371</td>\n",
       "    </tr>\n",
       "    <tr>\n",
       "      <th>3</th>\n",
       "      <td>2020-01-01</td>\n",
       "      <td>03:54</td>\n",
       "      <td>Wednesday</td>\n",
       "      <td>KIPLING STATION</td>\n",
       "      <td>MUIS</td>\n",
       "      <td>0</td>\n",
       "      <td>0</td>\n",
       "      <td>E</td>\n",
       "      <td>BD</td>\n",
       "      <td>5243</td>\n",
       "    </tr>\n",
       "    <tr>\n",
       "      <th>4</th>\n",
       "      <td>2020-01-01</td>\n",
       "      <td>08:07</td>\n",
       "      <td>Wednesday</td>\n",
       "      <td>KEELE STATION</td>\n",
       "      <td>MUNOA</td>\n",
       "      <td>4</td>\n",
       "      <td>9</td>\n",
       "      <td>W</td>\n",
       "      <td>BD</td>\n",
       "      <td>5011</td>\n",
       "    </tr>\n",
       "  </tbody>\n",
       "</table>\n",
       "</div>"
      ],
      "text/plain": [
       "        Date   Time        Day                Station   Code  Min Delay  \\\n",
       "0 2020-01-01  01:18  Wednesday    KENNEDY SRT STATION   SRDP          8   \n",
       "1 2020-01-01  01:27  Wednesday  SHEPPARD WEST STATION    MUI          7   \n",
       "2 2020-01-01  02:22  Wednesday    MAIN STREET STATION   EUNT          3   \n",
       "3 2020-01-01  03:54  Wednesday        KIPLING STATION   MUIS          0   \n",
       "4 2020-01-01  08:07  Wednesday          KEELE STATION  MUNOA          4   \n",
       "\n",
       "   Min Gap Bound Line  Vehicle  \n",
       "0       13     N  SRT     3025  \n",
       "1       12     S   YU     5591  \n",
       "2        7     W   BD     5371  \n",
       "3        0     E   BD     5243  \n",
       "4        9     W   BD     5011  "
      ]
     },
     "execution_count": 5,
     "metadata": {},
     "output_type": "execute_result"
    }
   ],
   "source": [
    "df1.head()"
   ]
  },
  {
   "cell_type": "code",
   "execution_count": 6,
   "metadata": {},
   "outputs": [
    {
     "data": {
      "text/html": [
       "<div>\n",
       "<style scoped>\n",
       "    .dataframe tbody tr th:only-of-type {\n",
       "        vertical-align: middle;\n",
       "    }\n",
       "\n",
       "    .dataframe tbody tr th {\n",
       "        vertical-align: top;\n",
       "    }\n",
       "\n",
       "    .dataframe thead th {\n",
       "        text-align: right;\n",
       "    }\n",
       "</style>\n",
       "<table border=\"1\" class=\"dataframe\">\n",
       "  <thead>\n",
       "    <tr style=\"text-align: right;\">\n",
       "      <th></th>\n",
       "      <th>Date</th>\n",
       "      <th>Time</th>\n",
       "      <th>Day</th>\n",
       "      <th>Station</th>\n",
       "      <th>Code</th>\n",
       "      <th>Min Delay</th>\n",
       "      <th>Min Gap</th>\n",
       "      <th>Bound</th>\n",
       "      <th>Line</th>\n",
       "      <th>Vehicle</th>\n",
       "    </tr>\n",
       "  </thead>\n",
       "  <tbody>\n",
       "    <tr>\n",
       "      <th>0</th>\n",
       "      <td>2021-01-01</td>\n",
       "      <td>00:33</td>\n",
       "      <td>Friday</td>\n",
       "      <td>BLOOR STATION</td>\n",
       "      <td>MUPAA</td>\n",
       "      <td>0</td>\n",
       "      <td>0</td>\n",
       "      <td>N</td>\n",
       "      <td>YU</td>\n",
       "      <td>6046</td>\n",
       "    </tr>\n",
       "    <tr>\n",
       "      <th>1</th>\n",
       "      <td>2021-01-01</td>\n",
       "      <td>00:39</td>\n",
       "      <td>Friday</td>\n",
       "      <td>SHERBOURNE STATION</td>\n",
       "      <td>EUCO</td>\n",
       "      <td>5</td>\n",
       "      <td>9</td>\n",
       "      <td>E</td>\n",
       "      <td>BD</td>\n",
       "      <td>5250</td>\n",
       "    </tr>\n",
       "    <tr>\n",
       "      <th>2</th>\n",
       "      <td>2021-01-01</td>\n",
       "      <td>01:07</td>\n",
       "      <td>Friday</td>\n",
       "      <td>KENNEDY BD STATION</td>\n",
       "      <td>EUCD</td>\n",
       "      <td>5</td>\n",
       "      <td>9</td>\n",
       "      <td>E</td>\n",
       "      <td>BD</td>\n",
       "      <td>5249</td>\n",
       "    </tr>\n",
       "    <tr>\n",
       "      <th>3</th>\n",
       "      <td>2021-01-01</td>\n",
       "      <td>01:41</td>\n",
       "      <td>Friday</td>\n",
       "      <td>ST CLAIR STATION</td>\n",
       "      <td>MUIS</td>\n",
       "      <td>0</td>\n",
       "      <td>0</td>\n",
       "      <td>NaN</td>\n",
       "      <td>YU</td>\n",
       "      <td>0</td>\n",
       "    </tr>\n",
       "    <tr>\n",
       "      <th>4</th>\n",
       "      <td>2021-01-01</td>\n",
       "      <td>02:04</td>\n",
       "      <td>Friday</td>\n",
       "      <td>SHEPPARD WEST STATION</td>\n",
       "      <td>MUIS</td>\n",
       "      <td>0</td>\n",
       "      <td>0</td>\n",
       "      <td>NaN</td>\n",
       "      <td>YU</td>\n",
       "      <td>0</td>\n",
       "    </tr>\n",
       "  </tbody>\n",
       "</table>\n",
       "</div>"
      ],
      "text/plain": [
       "        Date   Time     Day                Station   Code  Min Delay  Min Gap  \\\n",
       "0 2021-01-01  00:33  Friday          BLOOR STATION  MUPAA          0        0   \n",
       "1 2021-01-01  00:39  Friday     SHERBOURNE STATION   EUCO          5        9   \n",
       "2 2021-01-01  01:07  Friday     KENNEDY BD STATION   EUCD          5        9   \n",
       "3 2021-01-01  01:41  Friday       ST CLAIR STATION   MUIS          0        0   \n",
       "4 2021-01-01  02:04  Friday  SHEPPARD WEST STATION   MUIS          0        0   \n",
       "\n",
       "  Bound Line  Vehicle  \n",
       "0     N   YU     6046  \n",
       "1     E   BD     5250  \n",
       "2     E   BD     5249  \n",
       "3   NaN   YU        0  \n",
       "4   NaN   YU        0  "
      ]
     },
     "execution_count": 6,
     "metadata": {},
     "output_type": "execute_result"
    }
   ],
   "source": [
    "df2.head()"
   ]
  },
  {
   "cell_type": "code",
   "execution_count": 7,
   "metadata": {},
   "outputs": [
    {
     "data": {
      "text/html": [
       "<div>\n",
       "<style scoped>\n",
       "    .dataframe tbody tr th:only-of-type {\n",
       "        vertical-align: middle;\n",
       "    }\n",
       "\n",
       "    .dataframe tbody tr th {\n",
       "        vertical-align: top;\n",
       "    }\n",
       "\n",
       "    .dataframe thead th {\n",
       "        text-align: right;\n",
       "    }\n",
       "</style>\n",
       "<table border=\"1\" class=\"dataframe\">\n",
       "  <thead>\n",
       "    <tr style=\"text-align: right;\">\n",
       "      <th></th>\n",
       "      <th>Date</th>\n",
       "      <th>Time</th>\n",
       "      <th>Day</th>\n",
       "      <th>Station</th>\n",
       "      <th>Code</th>\n",
       "      <th>Min Delay</th>\n",
       "      <th>Min Gap</th>\n",
       "      <th>Bound</th>\n",
       "      <th>Line</th>\n",
       "      <th>Vehicle</th>\n",
       "    </tr>\n",
       "  </thead>\n",
       "  <tbody>\n",
       "    <tr>\n",
       "      <th>0</th>\n",
       "      <td>2022-01-01</td>\n",
       "      <td>15:59</td>\n",
       "      <td>Saturday</td>\n",
       "      <td>LAWRENCE EAST STATION</td>\n",
       "      <td>SRDP</td>\n",
       "      <td>0</td>\n",
       "      <td>0</td>\n",
       "      <td>N</td>\n",
       "      <td>SRT</td>\n",
       "      <td>3023</td>\n",
       "    </tr>\n",
       "    <tr>\n",
       "      <th>1</th>\n",
       "      <td>2022-01-01</td>\n",
       "      <td>02:23</td>\n",
       "      <td>Saturday</td>\n",
       "      <td>SPADINA BD STATION</td>\n",
       "      <td>MUIS</td>\n",
       "      <td>0</td>\n",
       "      <td>0</td>\n",
       "      <td>NaN</td>\n",
       "      <td>BD</td>\n",
       "      <td>0</td>\n",
       "    </tr>\n",
       "    <tr>\n",
       "      <th>2</th>\n",
       "      <td>2022-01-01</td>\n",
       "      <td>22:00</td>\n",
       "      <td>Saturday</td>\n",
       "      <td>KENNEDY SRT STATION TO</td>\n",
       "      <td>MRO</td>\n",
       "      <td>0</td>\n",
       "      <td>0</td>\n",
       "      <td>NaN</td>\n",
       "      <td>SRT</td>\n",
       "      <td>0</td>\n",
       "    </tr>\n",
       "    <tr>\n",
       "      <th>3</th>\n",
       "      <td>2022-01-01</td>\n",
       "      <td>02:28</td>\n",
       "      <td>Saturday</td>\n",
       "      <td>VAUGHAN MC STATION</td>\n",
       "      <td>MUIS</td>\n",
       "      <td>0</td>\n",
       "      <td>0</td>\n",
       "      <td>NaN</td>\n",
       "      <td>YU</td>\n",
       "      <td>0</td>\n",
       "    </tr>\n",
       "    <tr>\n",
       "      <th>4</th>\n",
       "      <td>2022-01-01</td>\n",
       "      <td>02:34</td>\n",
       "      <td>Saturday</td>\n",
       "      <td>EGLINTON STATION</td>\n",
       "      <td>MUATC</td>\n",
       "      <td>0</td>\n",
       "      <td>0</td>\n",
       "      <td>S</td>\n",
       "      <td>YU</td>\n",
       "      <td>5981</td>\n",
       "    </tr>\n",
       "  </tbody>\n",
       "</table>\n",
       "</div>"
      ],
      "text/plain": [
       "        Date   Time       Day                 Station   Code  Min Delay  \\\n",
       "0 2022-01-01  15:59  Saturday   LAWRENCE EAST STATION   SRDP          0   \n",
       "1 2022-01-01  02:23  Saturday      SPADINA BD STATION   MUIS          0   \n",
       "2 2022-01-01  22:00  Saturday  KENNEDY SRT STATION TO    MRO          0   \n",
       "3 2022-01-01  02:28  Saturday      VAUGHAN MC STATION   MUIS          0   \n",
       "4 2022-01-01  02:34  Saturday        EGLINTON STATION  MUATC          0   \n",
       "\n",
       "   Min Gap Bound Line  Vehicle  \n",
       "0        0     N  SRT     3023  \n",
       "1        0   NaN   BD        0  \n",
       "2        0   NaN  SRT        0  \n",
       "3        0   NaN   YU        0  \n",
       "4        0     S   YU     5981  "
      ]
     },
     "execution_count": 7,
     "metadata": {},
     "output_type": "execute_result"
    }
   ],
   "source": [
    "df3.head()"
   ]
  },
  {
   "cell_type": "code",
   "execution_count": 8,
   "metadata": {},
   "outputs": [
    {
     "data": {
      "text/plain": [
       "(1339, 10)"
      ]
     },
     "execution_count": 8,
     "metadata": {},
     "output_type": "execute_result"
    }
   ],
   "source": [
    "df1.shape"
   ]
  },
  {
   "cell_type": "code",
   "execution_count": 9,
   "metadata": {},
   "outputs": [
    {
     "data": {
      "text/plain": [
       "(1216, 10)"
      ]
     },
     "execution_count": 9,
     "metadata": {},
     "output_type": "execute_result"
    }
   ],
   "source": [
    "df2.shape"
   ]
  },
  {
   "cell_type": "code",
   "execution_count": 10,
   "metadata": {},
   "outputs": [
    {
     "data": {
      "text/plain": [
       "(8414, 10)"
      ]
     },
     "execution_count": 10,
     "metadata": {},
     "output_type": "execute_result"
    }
   ],
   "source": [
    "df3.shape"
   ]
  },
  {
   "cell_type": "markdown",
   "metadata": {},
   "source": [
    "# Joining the dataframes"
   ]
  },
  {
   "cell_type": "code",
   "execution_count": 11,
   "metadata": {},
   "outputs": [],
   "source": [
    "# we can use merge or >join to join df vertically (axis = 1)\n",
    "# we can use concat or >append to join df horizontally (axis = 0)"
   ]
  },
  {
   "cell_type": "code",
   "execution_count": 12,
   "metadata": {},
   "outputs": [],
   "source": [
    "df = pd.concat([df1,df2,df3],ignore_index=True)"
   ]
  },
  {
   "cell_type": "code",
   "execution_count": 13,
   "metadata": {},
   "outputs": [
    {
     "data": {
      "text/html": [
       "<div>\n",
       "<style scoped>\n",
       "    .dataframe tbody tr th:only-of-type {\n",
       "        vertical-align: middle;\n",
       "    }\n",
       "\n",
       "    .dataframe tbody tr th {\n",
       "        vertical-align: top;\n",
       "    }\n",
       "\n",
       "    .dataframe thead th {\n",
       "        text-align: right;\n",
       "    }\n",
       "</style>\n",
       "<table border=\"1\" class=\"dataframe\">\n",
       "  <thead>\n",
       "    <tr style=\"text-align: right;\">\n",
       "      <th></th>\n",
       "      <th>Date</th>\n",
       "      <th>Time</th>\n",
       "      <th>Day</th>\n",
       "      <th>Station</th>\n",
       "      <th>Code</th>\n",
       "      <th>Min Delay</th>\n",
       "      <th>Min Gap</th>\n",
       "      <th>Bound</th>\n",
       "      <th>Line</th>\n",
       "      <th>Vehicle</th>\n",
       "    </tr>\n",
       "  </thead>\n",
       "  <tbody>\n",
       "    <tr>\n",
       "      <th>0</th>\n",
       "      <td>2020-01-01</td>\n",
       "      <td>01:18</td>\n",
       "      <td>Wednesday</td>\n",
       "      <td>KENNEDY SRT STATION</td>\n",
       "      <td>SRDP</td>\n",
       "      <td>8</td>\n",
       "      <td>13</td>\n",
       "      <td>N</td>\n",
       "      <td>SRT</td>\n",
       "      <td>3025</td>\n",
       "    </tr>\n",
       "    <tr>\n",
       "      <th>1</th>\n",
       "      <td>2020-01-01</td>\n",
       "      <td>01:27</td>\n",
       "      <td>Wednesday</td>\n",
       "      <td>SHEPPARD WEST STATION</td>\n",
       "      <td>MUI</td>\n",
       "      <td>7</td>\n",
       "      <td>12</td>\n",
       "      <td>S</td>\n",
       "      <td>YU</td>\n",
       "      <td>5591</td>\n",
       "    </tr>\n",
       "    <tr>\n",
       "      <th>2</th>\n",
       "      <td>2020-01-01</td>\n",
       "      <td>02:22</td>\n",
       "      <td>Wednesday</td>\n",
       "      <td>MAIN STREET STATION</td>\n",
       "      <td>EUNT</td>\n",
       "      <td>3</td>\n",
       "      <td>7</td>\n",
       "      <td>W</td>\n",
       "      <td>BD</td>\n",
       "      <td>5371</td>\n",
       "    </tr>\n",
       "    <tr>\n",
       "      <th>3</th>\n",
       "      <td>2020-01-01</td>\n",
       "      <td>03:54</td>\n",
       "      <td>Wednesday</td>\n",
       "      <td>KIPLING STATION</td>\n",
       "      <td>MUIS</td>\n",
       "      <td>0</td>\n",
       "      <td>0</td>\n",
       "      <td>E</td>\n",
       "      <td>BD</td>\n",
       "      <td>5243</td>\n",
       "    </tr>\n",
       "    <tr>\n",
       "      <th>4</th>\n",
       "      <td>2020-01-01</td>\n",
       "      <td>08:07</td>\n",
       "      <td>Wednesday</td>\n",
       "      <td>KEELE STATION</td>\n",
       "      <td>MUNOA</td>\n",
       "      <td>4</td>\n",
       "      <td>9</td>\n",
       "      <td>W</td>\n",
       "      <td>BD</td>\n",
       "      <td>5011</td>\n",
       "    </tr>\n",
       "  </tbody>\n",
       "</table>\n",
       "</div>"
      ],
      "text/plain": [
       "        Date   Time        Day                Station   Code  Min Delay  \\\n",
       "0 2020-01-01  01:18  Wednesday    KENNEDY SRT STATION   SRDP          8   \n",
       "1 2020-01-01  01:27  Wednesday  SHEPPARD WEST STATION    MUI          7   \n",
       "2 2020-01-01  02:22  Wednesday    MAIN STREET STATION   EUNT          3   \n",
       "3 2020-01-01  03:54  Wednesday        KIPLING STATION   MUIS          0   \n",
       "4 2020-01-01  08:07  Wednesday          KEELE STATION  MUNOA          4   \n",
       "\n",
       "   Min Gap Bound Line  Vehicle  \n",
       "0       13     N  SRT     3025  \n",
       "1       12     S   YU     5591  \n",
       "2        7     W   BD     5371  \n",
       "3        0     E   BD     5243  \n",
       "4        9     W   BD     5011  "
      ]
     },
     "execution_count": 13,
     "metadata": {},
     "output_type": "execute_result"
    }
   ],
   "source": [
    "df.head()"
   ]
  },
  {
   "cell_type": "code",
   "execution_count": 14,
   "metadata": {},
   "outputs": [
    {
     "data": {
      "text/html": [
       "<div>\n",
       "<style scoped>\n",
       "    .dataframe tbody tr th:only-of-type {\n",
       "        vertical-align: middle;\n",
       "    }\n",
       "\n",
       "    .dataframe tbody tr th {\n",
       "        vertical-align: top;\n",
       "    }\n",
       "\n",
       "    .dataframe thead th {\n",
       "        text-align: right;\n",
       "    }\n",
       "</style>\n",
       "<table border=\"1\" class=\"dataframe\">\n",
       "  <thead>\n",
       "    <tr style=\"text-align: right;\">\n",
       "      <th></th>\n",
       "      <th>Date</th>\n",
       "      <th>Time</th>\n",
       "      <th>Day</th>\n",
       "      <th>Station</th>\n",
       "      <th>Code</th>\n",
       "      <th>Min Delay</th>\n",
       "      <th>Min Gap</th>\n",
       "      <th>Bound</th>\n",
       "      <th>Line</th>\n",
       "      <th>Vehicle</th>\n",
       "    </tr>\n",
       "  </thead>\n",
       "  <tbody>\n",
       "    <tr>\n",
       "      <th>10964</th>\n",
       "      <td>2022-05-31</td>\n",
       "      <td>15:28</td>\n",
       "      <td>Tuesday</td>\n",
       "      <td>BAYVIEW STATION</td>\n",
       "      <td>SUDP</td>\n",
       "      <td>3</td>\n",
       "      <td>6</td>\n",
       "      <td>E</td>\n",
       "      <td>SHP</td>\n",
       "      <td>6171</td>\n",
       "    </tr>\n",
       "    <tr>\n",
       "      <th>10965</th>\n",
       "      <td>2022-05-31</td>\n",
       "      <td>18:20</td>\n",
       "      <td>Tuesday</td>\n",
       "      <td>DON MILLS STATION</td>\n",
       "      <td>MUPAA</td>\n",
       "      <td>0</td>\n",
       "      <td>0</td>\n",
       "      <td>W</td>\n",
       "      <td>SHP</td>\n",
       "      <td>6191</td>\n",
       "    </tr>\n",
       "    <tr>\n",
       "      <th>10966</th>\n",
       "      <td>2022-05-31</td>\n",
       "      <td>19:02</td>\n",
       "      <td>Tuesday</td>\n",
       "      <td>LESLIE STATION</td>\n",
       "      <td>MUSC</td>\n",
       "      <td>0</td>\n",
       "      <td>0</td>\n",
       "      <td>W</td>\n",
       "      <td>SHP</td>\n",
       "      <td>6146</td>\n",
       "    </tr>\n",
       "    <tr>\n",
       "      <th>10967</th>\n",
       "      <td>2022-05-31</td>\n",
       "      <td>20:05</td>\n",
       "      <td>Tuesday</td>\n",
       "      <td>BESSARION STATION</td>\n",
       "      <td>MUSC</td>\n",
       "      <td>0</td>\n",
       "      <td>0</td>\n",
       "      <td>W</td>\n",
       "      <td>SHP</td>\n",
       "      <td>6176</td>\n",
       "    </tr>\n",
       "    <tr>\n",
       "      <th>10968</th>\n",
       "      <td>2022-05-31</td>\n",
       "      <td>22:51</td>\n",
       "      <td>Tuesday</td>\n",
       "      <td>LESLIE STATION</td>\n",
       "      <td>MUIS</td>\n",
       "      <td>0</td>\n",
       "      <td>0</td>\n",
       "      <td>NaN</td>\n",
       "      <td>SHP</td>\n",
       "      <td>0</td>\n",
       "    </tr>\n",
       "  </tbody>\n",
       "</table>\n",
       "</div>"
      ],
      "text/plain": [
       "            Date   Time      Day            Station   Code  Min Delay  \\\n",
       "10964 2022-05-31  15:28  Tuesday    BAYVIEW STATION   SUDP          3   \n",
       "10965 2022-05-31  18:20  Tuesday  DON MILLS STATION  MUPAA          0   \n",
       "10966 2022-05-31  19:02  Tuesday     LESLIE STATION   MUSC          0   \n",
       "10967 2022-05-31  20:05  Tuesday  BESSARION STATION   MUSC          0   \n",
       "10968 2022-05-31  22:51  Tuesday     LESLIE STATION   MUIS          0   \n",
       "\n",
       "       Min Gap Bound Line  Vehicle  \n",
       "10964        6     E  SHP     6171  \n",
       "10965        0     W  SHP     6191  \n",
       "10966        0     W  SHP     6146  \n",
       "10967        0     W  SHP     6176  \n",
       "10968        0   NaN  SHP        0  "
      ]
     },
     "execution_count": 14,
     "metadata": {},
     "output_type": "execute_result"
    }
   ],
   "source": [
    "df.tail()"
   ]
  },
  {
   "cell_type": "code",
   "execution_count": 15,
   "metadata": {},
   "outputs": [
    {
     "data": {
      "text/plain": [
       "Index(['Date', 'Time', 'Day', 'Station', 'Code', 'Min Delay', 'Min Gap',\n",
       "       'Bound', 'Line', 'Vehicle'],\n",
       "      dtype='object')"
      ]
     },
     "execution_count": 15,
     "metadata": {},
     "output_type": "execute_result"
    }
   ],
   "source": [
    "df.columns"
   ]
  },
  {
   "cell_type": "code",
   "execution_count": 16,
   "metadata": {},
   "outputs": [
    {
     "data": {
      "text/plain": [
       "Date         datetime64[ns]\n",
       "Time                 object\n",
       "Day                  object\n",
       "Station              object\n",
       "Code                 object\n",
       "Min Delay             int64\n",
       "Min Gap               int64\n",
       "Bound                object\n",
       "Line                 object\n",
       "Vehicle               int64\n",
       "dtype: object"
      ]
     },
     "execution_count": 16,
     "metadata": {},
     "output_type": "execute_result"
    }
   ],
   "source": [
    "df.dtypes"
   ]
  },
  {
   "cell_type": "code",
   "execution_count": 17,
   "metadata": {},
   "outputs": [],
   "source": [
    "df = df.loc[:,['Date', 'Time', 'Day', 'Station',\n",
    "       'Bound', 'Line', 'Vehicle', 'Code', 'Min Gap', 'Min Delay']]"
   ]
  },
  {
   "cell_type": "code",
   "execution_count": 18,
   "metadata": {},
   "outputs": [
    {
     "data": {
      "text/html": [
       "<div>\n",
       "<style scoped>\n",
       "    .dataframe tbody tr th:only-of-type {\n",
       "        vertical-align: middle;\n",
       "    }\n",
       "\n",
       "    .dataframe tbody tr th {\n",
       "        vertical-align: top;\n",
       "    }\n",
       "\n",
       "    .dataframe thead th {\n",
       "        text-align: right;\n",
       "    }\n",
       "</style>\n",
       "<table border=\"1\" class=\"dataframe\">\n",
       "  <thead>\n",
       "    <tr style=\"text-align: right;\">\n",
       "      <th></th>\n",
       "      <th>Date</th>\n",
       "      <th>Time</th>\n",
       "      <th>Day</th>\n",
       "      <th>Station</th>\n",
       "      <th>Bound</th>\n",
       "      <th>Line</th>\n",
       "      <th>Vehicle</th>\n",
       "      <th>Code</th>\n",
       "      <th>Min Gap</th>\n",
       "      <th>Min Delay</th>\n",
       "    </tr>\n",
       "  </thead>\n",
       "  <tbody>\n",
       "    <tr>\n",
       "      <th>0</th>\n",
       "      <td>2020-01-01</td>\n",
       "      <td>01:18</td>\n",
       "      <td>Wednesday</td>\n",
       "      <td>KENNEDY SRT STATION</td>\n",
       "      <td>N</td>\n",
       "      <td>SRT</td>\n",
       "      <td>3025</td>\n",
       "      <td>SRDP</td>\n",
       "      <td>13</td>\n",
       "      <td>8</td>\n",
       "    </tr>\n",
       "    <tr>\n",
       "      <th>1</th>\n",
       "      <td>2020-01-01</td>\n",
       "      <td>01:27</td>\n",
       "      <td>Wednesday</td>\n",
       "      <td>SHEPPARD WEST STATION</td>\n",
       "      <td>S</td>\n",
       "      <td>YU</td>\n",
       "      <td>5591</td>\n",
       "      <td>MUI</td>\n",
       "      <td>12</td>\n",
       "      <td>7</td>\n",
       "    </tr>\n",
       "    <tr>\n",
       "      <th>2</th>\n",
       "      <td>2020-01-01</td>\n",
       "      <td>02:22</td>\n",
       "      <td>Wednesday</td>\n",
       "      <td>MAIN STREET STATION</td>\n",
       "      <td>W</td>\n",
       "      <td>BD</td>\n",
       "      <td>5371</td>\n",
       "      <td>EUNT</td>\n",
       "      <td>7</td>\n",
       "      <td>3</td>\n",
       "    </tr>\n",
       "    <tr>\n",
       "      <th>3</th>\n",
       "      <td>2020-01-01</td>\n",
       "      <td>03:54</td>\n",
       "      <td>Wednesday</td>\n",
       "      <td>KIPLING STATION</td>\n",
       "      <td>E</td>\n",
       "      <td>BD</td>\n",
       "      <td>5243</td>\n",
       "      <td>MUIS</td>\n",
       "      <td>0</td>\n",
       "      <td>0</td>\n",
       "    </tr>\n",
       "    <tr>\n",
       "      <th>4</th>\n",
       "      <td>2020-01-01</td>\n",
       "      <td>08:07</td>\n",
       "      <td>Wednesday</td>\n",
       "      <td>KEELE STATION</td>\n",
       "      <td>W</td>\n",
       "      <td>BD</td>\n",
       "      <td>5011</td>\n",
       "      <td>MUNOA</td>\n",
       "      <td>9</td>\n",
       "      <td>4</td>\n",
       "    </tr>\n",
       "  </tbody>\n",
       "</table>\n",
       "</div>"
      ],
      "text/plain": [
       "        Date   Time        Day                Station Bound Line  Vehicle  \\\n",
       "0 2020-01-01  01:18  Wednesday    KENNEDY SRT STATION     N  SRT     3025   \n",
       "1 2020-01-01  01:27  Wednesday  SHEPPARD WEST STATION     S   YU     5591   \n",
       "2 2020-01-01  02:22  Wednesday    MAIN STREET STATION     W   BD     5371   \n",
       "3 2020-01-01  03:54  Wednesday        KIPLING STATION     E   BD     5243   \n",
       "4 2020-01-01  08:07  Wednesday          KEELE STATION     W   BD     5011   \n",
       "\n",
       "    Code  Min Gap  Min Delay  \n",
       "0   SRDP       13          8  \n",
       "1    MUI       12          7  \n",
       "2   EUNT        7          3  \n",
       "3   MUIS        0          0  \n",
       "4  MUNOA        9          4  "
      ]
     },
     "execution_count": 18,
     "metadata": {},
     "output_type": "execute_result"
    }
   ],
   "source": [
    "df.head()"
   ]
  },
  {
   "cell_type": "code",
   "execution_count": 19,
   "metadata": {},
   "outputs": [
    {
     "data": {
      "text/plain": [
       "(10969, 10)"
      ]
     },
     "execution_count": 19,
     "metadata": {},
     "output_type": "execute_result"
    }
   ],
   "source": [
    "df.shape"
   ]
  },
  {
   "cell_type": "code",
   "execution_count": 20,
   "metadata": {},
   "outputs": [
    {
     "data": {
      "text/plain": [
       "Time         1364\n",
       "Vehicle       630\n",
       "Date          213\n",
       "Station       210\n",
       "Code          173\n",
       "Min Gap       107\n",
       "Min Delay     100\n",
       "Line           12\n",
       "Day             7\n",
       "Bound           5\n",
       "dtype: int64"
      ]
     },
     "execution_count": 20,
     "metadata": {},
     "output_type": "execute_result"
    }
   ],
   "source": [
    "df.nunique().sort_values(ascending = False)"
   ]
  },
  {
   "cell_type": "code",
   "execution_count": 21,
   "metadata": {},
   "outputs": [
    {
     "data": {
      "text/plain": [
       "Bound        2826\n",
       "Line           23\n",
       "Min Delay       0\n",
       "Min Gap         0\n",
       "Code            0\n",
       "Vehicle         0\n",
       "Station         0\n",
       "Day             0\n",
       "Time            0\n",
       "Date            0\n",
       "dtype: int64"
      ]
     },
     "execution_count": 21,
     "metadata": {},
     "output_type": "execute_result"
    }
   ],
   "source": [
    "df.isnull().sum().sort_values(ascending = False)"
   ]
  },
  {
   "cell_type": "code",
   "execution_count": 22,
   "metadata": {},
   "outputs": [],
   "source": [
    "df = df.dropna(axis = 0,subset = ['Line']).reset_index(drop=True)\n",
    "#axis = 0 - row vise dropping, drop the rows in Line column which are null"
   ]
  },
  {
   "cell_type": "code",
   "execution_count": 23,
   "metadata": {},
   "outputs": [
    {
     "data": {
      "text/plain": [
       "(10946, 10)"
      ]
     },
     "execution_count": 23,
     "metadata": {},
     "output_type": "execute_result"
    }
   ],
   "source": [
    "df.shape"
   ]
  },
  {
   "cell_type": "code",
   "execution_count": 24,
   "metadata": {},
   "outputs": [
    {
     "data": {
      "text/plain": [
       "Bound        2808\n",
       "Min Delay       0\n",
       "Min Gap         0\n",
       "Code            0\n",
       "Vehicle         0\n",
       "Line            0\n",
       "Station         0\n",
       "Day             0\n",
       "Time            0\n",
       "Date            0\n",
       "dtype: int64"
      ]
     },
     "execution_count": 24,
     "metadata": {},
     "output_type": "execute_result"
    }
   ],
   "source": [
    "df.isnull().sum().sort_values(ascending = False)"
   ]
  },
  {
   "cell_type": "code",
   "execution_count": 25,
   "metadata": {},
   "outputs": [
    {
     "data": {
      "text/plain": [
       "array(['N', 'S', 'W', 'E', nan, 'B'], dtype=object)"
      ]
     },
     "execution_count": 25,
     "metadata": {},
     "output_type": "execute_result"
    }
   ],
   "source": [
    "df['Bound'].unique()"
   ]
  },
  {
   "cell_type": "code",
   "execution_count": 26,
   "metadata": {},
   "outputs": [
    {
     "data": {
      "text/plain": [
       "S    2986\n",
       "N    2190\n",
       "E    1479\n",
       "W    1460\n",
       "B      23\n",
       "Name: Bound, dtype: int64"
      ]
     },
     "execution_count": 26,
     "metadata": {},
     "output_type": "execute_result"
    }
   ],
   "source": [
    "df['Bound'].value_counts()"
   ]
  },
  {
   "cell_type": "code",
   "execution_count": 27,
   "metadata": {},
   "outputs": [],
   "source": [
    "B_mode = df['Bound'].mode()[0]"
   ]
  },
  {
   "cell_type": "code",
   "execution_count": 28,
   "metadata": {},
   "outputs": [
    {
     "data": {
      "text/plain": [
       "'S'"
      ]
     },
     "execution_count": 28,
     "metadata": {},
     "output_type": "execute_result"
    }
   ],
   "source": [
    "B_mode"
   ]
  },
  {
   "cell_type": "code",
   "execution_count": 29,
   "metadata": {},
   "outputs": [
    {
     "data": {
      "text/html": [
       "<div>\n",
       "<style scoped>\n",
       "    .dataframe tbody tr th:only-of-type {\n",
       "        vertical-align: middle;\n",
       "    }\n",
       "\n",
       "    .dataframe tbody tr th {\n",
       "        vertical-align: top;\n",
       "    }\n",
       "\n",
       "    .dataframe thead th {\n",
       "        text-align: right;\n",
       "    }\n",
       "</style>\n",
       "<table border=\"1\" class=\"dataframe\">\n",
       "  <thead>\n",
       "    <tr style=\"text-align: right;\">\n",
       "      <th></th>\n",
       "      <th>Date</th>\n",
       "      <th>Time</th>\n",
       "      <th>Day</th>\n",
       "      <th>Station</th>\n",
       "      <th>Bound</th>\n",
       "      <th>Line</th>\n",
       "      <th>Vehicle</th>\n",
       "      <th>Code</th>\n",
       "      <th>Min Gap</th>\n",
       "      <th>Min Delay</th>\n",
       "    </tr>\n",
       "  </thead>\n",
       "  <tbody>\n",
       "    <tr>\n",
       "      <th>0</th>\n",
       "      <td>2020-01-01</td>\n",
       "      <td>01:18</td>\n",
       "      <td>Wednesday</td>\n",
       "      <td>KENNEDY SRT STATION</td>\n",
       "      <td>N</td>\n",
       "      <td>SRT</td>\n",
       "      <td>3025</td>\n",
       "      <td>SRDP</td>\n",
       "      <td>13</td>\n",
       "      <td>8</td>\n",
       "    </tr>\n",
       "    <tr>\n",
       "      <th>1</th>\n",
       "      <td>2020-01-01</td>\n",
       "      <td>01:27</td>\n",
       "      <td>Wednesday</td>\n",
       "      <td>SHEPPARD WEST STATION</td>\n",
       "      <td>S</td>\n",
       "      <td>YU</td>\n",
       "      <td>5591</td>\n",
       "      <td>MUI</td>\n",
       "      <td>12</td>\n",
       "      <td>7</td>\n",
       "    </tr>\n",
       "    <tr>\n",
       "      <th>2</th>\n",
       "      <td>2020-01-01</td>\n",
       "      <td>02:22</td>\n",
       "      <td>Wednesday</td>\n",
       "      <td>MAIN STREET STATION</td>\n",
       "      <td>W</td>\n",
       "      <td>BD</td>\n",
       "      <td>5371</td>\n",
       "      <td>EUNT</td>\n",
       "      <td>7</td>\n",
       "      <td>3</td>\n",
       "    </tr>\n",
       "    <tr>\n",
       "      <th>3</th>\n",
       "      <td>2020-01-01</td>\n",
       "      <td>03:54</td>\n",
       "      <td>Wednesday</td>\n",
       "      <td>KIPLING STATION</td>\n",
       "      <td>E</td>\n",
       "      <td>BD</td>\n",
       "      <td>5243</td>\n",
       "      <td>MUIS</td>\n",
       "      <td>0</td>\n",
       "      <td>0</td>\n",
       "    </tr>\n",
       "    <tr>\n",
       "      <th>4</th>\n",
       "      <td>2020-01-01</td>\n",
       "      <td>08:07</td>\n",
       "      <td>Wednesday</td>\n",
       "      <td>KEELE STATION</td>\n",
       "      <td>W</td>\n",
       "      <td>BD</td>\n",
       "      <td>5011</td>\n",
       "      <td>MUNOA</td>\n",
       "      <td>9</td>\n",
       "      <td>4</td>\n",
       "    </tr>\n",
       "  </tbody>\n",
       "</table>\n",
       "</div>"
      ],
      "text/plain": [
       "        Date   Time        Day                Station Bound Line  Vehicle  \\\n",
       "0 2020-01-01  01:18  Wednesday    KENNEDY SRT STATION     N  SRT     3025   \n",
       "1 2020-01-01  01:27  Wednesday  SHEPPARD WEST STATION     S   YU     5591   \n",
       "2 2020-01-01  02:22  Wednesday    MAIN STREET STATION     W   BD     5371   \n",
       "3 2020-01-01  03:54  Wednesday        KIPLING STATION     E   BD     5243   \n",
       "4 2020-01-01  08:07  Wednesday          KEELE STATION     W   BD     5011   \n",
       "\n",
       "    Code  Min Gap  Min Delay  \n",
       "0   SRDP       13          8  \n",
       "1    MUI       12          7  \n",
       "2   EUNT        7          3  \n",
       "3   MUIS        0          0  \n",
       "4  MUNOA        9          4  "
      ]
     },
     "execution_count": 29,
     "metadata": {},
     "output_type": "execute_result"
    }
   ],
   "source": [
    "df.head()"
   ]
  },
  {
   "cell_type": "code",
   "execution_count": 30,
   "metadata": {},
   "outputs": [],
   "source": [
    "#df['Bound'].fillna(B_mode,inplace = True)"
   ]
  },
  {
   "cell_type": "code",
   "execution_count": 31,
   "metadata": {},
   "outputs": [
    {
     "data": {
      "text/html": [
       "<div>\n",
       "<style scoped>\n",
       "    .dataframe tbody tr th:only-of-type {\n",
       "        vertical-align: middle;\n",
       "    }\n",
       "\n",
       "    .dataframe tbody tr th {\n",
       "        vertical-align: top;\n",
       "    }\n",
       "\n",
       "    .dataframe thead th {\n",
       "        text-align: right;\n",
       "    }\n",
       "</style>\n",
       "<table border=\"1\" class=\"dataframe\">\n",
       "  <thead>\n",
       "    <tr style=\"text-align: right;\">\n",
       "      <th></th>\n",
       "      <th>Date</th>\n",
       "      <th>Time</th>\n",
       "      <th>Day</th>\n",
       "      <th>Station</th>\n",
       "      <th>Bound</th>\n",
       "      <th>Line</th>\n",
       "      <th>Vehicle</th>\n",
       "      <th>Code</th>\n",
       "      <th>Min Gap</th>\n",
       "      <th>Min Delay</th>\n",
       "    </tr>\n",
       "  </thead>\n",
       "  <tbody>\n",
       "    <tr>\n",
       "      <th>0</th>\n",
       "      <td>2020-01-01</td>\n",
       "      <td>01:18</td>\n",
       "      <td>Wednesday</td>\n",
       "      <td>KENNEDY SRT STATION</td>\n",
       "      <td>N</td>\n",
       "      <td>SRT</td>\n",
       "      <td>3025</td>\n",
       "      <td>SRDP</td>\n",
       "      <td>13</td>\n",
       "      <td>8</td>\n",
       "    </tr>\n",
       "    <tr>\n",
       "      <th>1</th>\n",
       "      <td>2020-01-01</td>\n",
       "      <td>01:27</td>\n",
       "      <td>Wednesday</td>\n",
       "      <td>SHEPPARD WEST STATION</td>\n",
       "      <td>S</td>\n",
       "      <td>YU</td>\n",
       "      <td>5591</td>\n",
       "      <td>MUI</td>\n",
       "      <td>12</td>\n",
       "      <td>7</td>\n",
       "    </tr>\n",
       "    <tr>\n",
       "      <th>2</th>\n",
       "      <td>2020-01-01</td>\n",
       "      <td>02:22</td>\n",
       "      <td>Wednesday</td>\n",
       "      <td>MAIN STREET STATION</td>\n",
       "      <td>W</td>\n",
       "      <td>BD</td>\n",
       "      <td>5371</td>\n",
       "      <td>EUNT</td>\n",
       "      <td>7</td>\n",
       "      <td>3</td>\n",
       "    </tr>\n",
       "    <tr>\n",
       "      <th>3</th>\n",
       "      <td>2020-01-01</td>\n",
       "      <td>03:54</td>\n",
       "      <td>Wednesday</td>\n",
       "      <td>KIPLING STATION</td>\n",
       "      <td>E</td>\n",
       "      <td>BD</td>\n",
       "      <td>5243</td>\n",
       "      <td>MUIS</td>\n",
       "      <td>0</td>\n",
       "      <td>0</td>\n",
       "    </tr>\n",
       "    <tr>\n",
       "      <th>4</th>\n",
       "      <td>2020-01-01</td>\n",
       "      <td>08:07</td>\n",
       "      <td>Wednesday</td>\n",
       "      <td>KEELE STATION</td>\n",
       "      <td>W</td>\n",
       "      <td>BD</td>\n",
       "      <td>5011</td>\n",
       "      <td>MUNOA</td>\n",
       "      <td>9</td>\n",
       "      <td>4</td>\n",
       "    </tr>\n",
       "  </tbody>\n",
       "</table>\n",
       "</div>"
      ],
      "text/plain": [
       "        Date   Time        Day                Station Bound Line  Vehicle  \\\n",
       "0 2020-01-01  01:18  Wednesday    KENNEDY SRT STATION     N  SRT     3025   \n",
       "1 2020-01-01  01:27  Wednesday  SHEPPARD WEST STATION     S   YU     5591   \n",
       "2 2020-01-01  02:22  Wednesday    MAIN STREET STATION     W   BD     5371   \n",
       "3 2020-01-01  03:54  Wednesday        KIPLING STATION     E   BD     5243   \n",
       "4 2020-01-01  08:07  Wednesday          KEELE STATION     W   BD     5011   \n",
       "\n",
       "    Code  Min Gap  Min Delay  \n",
       "0   SRDP       13          8  \n",
       "1    MUI       12          7  \n",
       "2   EUNT        7          3  \n",
       "3   MUIS        0          0  \n",
       "4  MUNOA        9          4  "
      ]
     },
     "execution_count": 31,
     "metadata": {},
     "output_type": "execute_result"
    }
   ],
   "source": [
    "df.head()"
   ]
  },
  {
   "cell_type": "code",
   "execution_count": 32,
   "metadata": {},
   "outputs": [
    {
     "data": {
      "text/plain": [
       "S    2986\n",
       "N    2190\n",
       "E    1479\n",
       "W    1460\n",
       "B      23\n",
       "Name: Bound, dtype: int64"
      ]
     },
     "execution_count": 32,
     "metadata": {},
     "output_type": "execute_result"
    }
   ],
   "source": [
    "df['Bound'].value_counts()"
   ]
  },
  {
   "cell_type": "code",
   "execution_count": 33,
   "metadata": {},
   "outputs": [
    {
     "data": {
      "text/html": [
       "<div>\n",
       "<style scoped>\n",
       "    .dataframe tbody tr th:only-of-type {\n",
       "        vertical-align: middle;\n",
       "    }\n",
       "\n",
       "    .dataframe tbody tr th {\n",
       "        vertical-align: top;\n",
       "    }\n",
       "\n",
       "    .dataframe thead th {\n",
       "        text-align: right;\n",
       "    }\n",
       "</style>\n",
       "<table border=\"1\" class=\"dataframe\">\n",
       "  <thead>\n",
       "    <tr style=\"text-align: right;\">\n",
       "      <th></th>\n",
       "      <th>Date</th>\n",
       "      <th>Time</th>\n",
       "      <th>Day</th>\n",
       "      <th>Station</th>\n",
       "      <th>Bound</th>\n",
       "      <th>Line</th>\n",
       "      <th>Vehicle</th>\n",
       "      <th>Code</th>\n",
       "      <th>Min Gap</th>\n",
       "      <th>Min Delay</th>\n",
       "    </tr>\n",
       "  </thead>\n",
       "  <tbody>\n",
       "    <tr>\n",
       "      <th>0</th>\n",
       "      <td>2020-01-01</td>\n",
       "      <td>01:18</td>\n",
       "      <td>Wednesday</td>\n",
       "      <td>KENNEDY SRT STATION</td>\n",
       "      <td>N</td>\n",
       "      <td>SRT</td>\n",
       "      <td>3025</td>\n",
       "      <td>SRDP</td>\n",
       "      <td>13</td>\n",
       "      <td>8</td>\n",
       "    </tr>\n",
       "    <tr>\n",
       "      <th>1</th>\n",
       "      <td>2020-01-01</td>\n",
       "      <td>01:27</td>\n",
       "      <td>Wednesday</td>\n",
       "      <td>SHEPPARD WEST STATION</td>\n",
       "      <td>S</td>\n",
       "      <td>YU</td>\n",
       "      <td>5591</td>\n",
       "      <td>MUI</td>\n",
       "      <td>12</td>\n",
       "      <td>7</td>\n",
       "    </tr>\n",
       "    <tr>\n",
       "      <th>2</th>\n",
       "      <td>2020-01-01</td>\n",
       "      <td>02:22</td>\n",
       "      <td>Wednesday</td>\n",
       "      <td>MAIN STREET STATION</td>\n",
       "      <td>W</td>\n",
       "      <td>BD</td>\n",
       "      <td>5371</td>\n",
       "      <td>EUNT</td>\n",
       "      <td>7</td>\n",
       "      <td>3</td>\n",
       "    </tr>\n",
       "    <tr>\n",
       "      <th>3</th>\n",
       "      <td>2020-01-01</td>\n",
       "      <td>03:54</td>\n",
       "      <td>Wednesday</td>\n",
       "      <td>KIPLING STATION</td>\n",
       "      <td>E</td>\n",
       "      <td>BD</td>\n",
       "      <td>5243</td>\n",
       "      <td>MUIS</td>\n",
       "      <td>0</td>\n",
       "      <td>0</td>\n",
       "    </tr>\n",
       "    <tr>\n",
       "      <th>4</th>\n",
       "      <td>2020-01-01</td>\n",
       "      <td>08:07</td>\n",
       "      <td>Wednesday</td>\n",
       "      <td>KEELE STATION</td>\n",
       "      <td>W</td>\n",
       "      <td>BD</td>\n",
       "      <td>5011</td>\n",
       "      <td>MUNOA</td>\n",
       "      <td>9</td>\n",
       "      <td>4</td>\n",
       "    </tr>\n",
       "  </tbody>\n",
       "</table>\n",
       "</div>"
      ],
      "text/plain": [
       "        Date   Time        Day                Station Bound Line  Vehicle  \\\n",
       "0 2020-01-01  01:18  Wednesday    KENNEDY SRT STATION     N  SRT     3025   \n",
       "1 2020-01-01  01:27  Wednesday  SHEPPARD WEST STATION     S   YU     5591   \n",
       "2 2020-01-01  02:22  Wednesday    MAIN STREET STATION     W   BD     5371   \n",
       "3 2020-01-01  03:54  Wednesday        KIPLING STATION     E   BD     5243   \n",
       "4 2020-01-01  08:07  Wednesday          KEELE STATION     W   BD     5011   \n",
       "\n",
       "    Code  Min Gap  Min Delay  \n",
       "0   SRDP       13          8  \n",
       "1    MUI       12          7  \n",
       "2   EUNT        7          3  \n",
       "3   MUIS        0          0  \n",
       "4  MUNOA        9          4  "
      ]
     },
     "execution_count": 33,
     "metadata": {},
     "output_type": "execute_result"
    }
   ],
   "source": [
    "df.head()"
   ]
  },
  {
   "cell_type": "code",
   "execution_count": 34,
   "metadata": {},
   "outputs": [
    {
     "data": {
      "text/html": [
       "<div>\n",
       "<style scoped>\n",
       "    .dataframe tbody tr th:only-of-type {\n",
       "        vertical-align: middle;\n",
       "    }\n",
       "\n",
       "    .dataframe tbody tr th {\n",
       "        vertical-align: top;\n",
       "    }\n",
       "\n",
       "    .dataframe thead th {\n",
       "        text-align: right;\n",
       "    }\n",
       "</style>\n",
       "<table border=\"1\" class=\"dataframe\">\n",
       "  <thead>\n",
       "    <tr style=\"text-align: right;\">\n",
       "      <th></th>\n",
       "      <th>Date</th>\n",
       "      <th>Time</th>\n",
       "      <th>Day</th>\n",
       "      <th>Station</th>\n",
       "      <th>Bound</th>\n",
       "      <th>Line</th>\n",
       "      <th>Vehicle</th>\n",
       "      <th>Code</th>\n",
       "      <th>Min Gap</th>\n",
       "      <th>Min Delay</th>\n",
       "    </tr>\n",
       "  </thead>\n",
       "  <tbody>\n",
       "    <tr>\n",
       "      <th>0</th>\n",
       "      <td>2020-01-01</td>\n",
       "      <td>01:18</td>\n",
       "      <td>Wednesday</td>\n",
       "      <td>KENNEDY SRT STATION</td>\n",
       "      <td>N</td>\n",
       "      <td>SRT</td>\n",
       "      <td>3025</td>\n",
       "      <td>SRDP</td>\n",
       "      <td>13</td>\n",
       "      <td>8</td>\n",
       "    </tr>\n",
       "    <tr>\n",
       "      <th>1</th>\n",
       "      <td>2020-01-01</td>\n",
       "      <td>01:27</td>\n",
       "      <td>Wednesday</td>\n",
       "      <td>SHEPPARD WEST STATION</td>\n",
       "      <td>S</td>\n",
       "      <td>YU</td>\n",
       "      <td>5591</td>\n",
       "      <td>MUI</td>\n",
       "      <td>12</td>\n",
       "      <td>7</td>\n",
       "    </tr>\n",
       "    <tr>\n",
       "      <th>2</th>\n",
       "      <td>2020-01-01</td>\n",
       "      <td>02:22</td>\n",
       "      <td>Wednesday</td>\n",
       "      <td>MAIN STREET STATION</td>\n",
       "      <td>W</td>\n",
       "      <td>BD</td>\n",
       "      <td>5371</td>\n",
       "      <td>EUNT</td>\n",
       "      <td>7</td>\n",
       "      <td>3</td>\n",
       "    </tr>\n",
       "    <tr>\n",
       "      <th>3</th>\n",
       "      <td>2020-01-01</td>\n",
       "      <td>03:54</td>\n",
       "      <td>Wednesday</td>\n",
       "      <td>KIPLING STATION</td>\n",
       "      <td>E</td>\n",
       "      <td>BD</td>\n",
       "      <td>5243</td>\n",
       "      <td>MUIS</td>\n",
       "      <td>0</td>\n",
       "      <td>0</td>\n",
       "    </tr>\n",
       "    <tr>\n",
       "      <th>4</th>\n",
       "      <td>2020-01-01</td>\n",
       "      <td>08:07</td>\n",
       "      <td>Wednesday</td>\n",
       "      <td>KEELE STATION</td>\n",
       "      <td>W</td>\n",
       "      <td>BD</td>\n",
       "      <td>5011</td>\n",
       "      <td>MUNOA</td>\n",
       "      <td>9</td>\n",
       "      <td>4</td>\n",
       "    </tr>\n",
       "  </tbody>\n",
       "</table>\n",
       "</div>"
      ],
      "text/plain": [
       "        Date   Time        Day                Station Bound Line  Vehicle  \\\n",
       "0 2020-01-01  01:18  Wednesday    KENNEDY SRT STATION     N  SRT     3025   \n",
       "1 2020-01-01  01:27  Wednesday  SHEPPARD WEST STATION     S   YU     5591   \n",
       "2 2020-01-01  02:22  Wednesday    MAIN STREET STATION     W   BD     5371   \n",
       "3 2020-01-01  03:54  Wednesday        KIPLING STATION     E   BD     5243   \n",
       "4 2020-01-01  08:07  Wednesday          KEELE STATION     W   BD     5011   \n",
       "\n",
       "    Code  Min Gap  Min Delay  \n",
       "0   SRDP       13          8  \n",
       "1    MUI       12          7  \n",
       "2   EUNT        7          3  \n",
       "3   MUIS        0          0  \n",
       "4  MUNOA        9          4  "
      ]
     },
     "execution_count": 34,
     "metadata": {},
     "output_type": "execute_result"
    }
   ],
   "source": [
    "df.head()"
   ]
  },
  {
   "cell_type": "code",
   "execution_count": 35,
   "metadata": {},
   "outputs": [],
   "source": [
    "#df.replace('S','O')"
   ]
  },
  {
   "cell_type": "code",
   "execution_count": 36,
   "metadata": {},
   "outputs": [
    {
     "data": {
      "text/plain": [
       "'N'"
      ]
     },
     "execution_count": 36,
     "metadata": {},
     "output_type": "execute_result"
    }
   ],
   "source": [
    "df['Bound'][0]"
   ]
  },
  {
   "cell_type": "code",
   "execution_count": 37,
   "metadata": {},
   "outputs": [
    {
     "data": {
      "text/html": [
       "<div>\n",
       "<style scoped>\n",
       "    .dataframe tbody tr th:only-of-type {\n",
       "        vertical-align: middle;\n",
       "    }\n",
       "\n",
       "    .dataframe tbody tr th {\n",
       "        vertical-align: top;\n",
       "    }\n",
       "\n",
       "    .dataframe thead th {\n",
       "        text-align: right;\n",
       "    }\n",
       "</style>\n",
       "<table border=\"1\" class=\"dataframe\">\n",
       "  <thead>\n",
       "    <tr style=\"text-align: right;\">\n",
       "      <th></th>\n",
       "      <th>Date</th>\n",
       "      <th>Time</th>\n",
       "      <th>Day</th>\n",
       "      <th>Station</th>\n",
       "      <th>Bound</th>\n",
       "      <th>Line</th>\n",
       "      <th>Vehicle</th>\n",
       "      <th>Code</th>\n",
       "      <th>Min Gap</th>\n",
       "      <th>Min Delay</th>\n",
       "    </tr>\n",
       "  </thead>\n",
       "  <tbody>\n",
       "    <tr>\n",
       "      <th>0</th>\n",
       "      <td>2020-01-01</td>\n",
       "      <td>01:18</td>\n",
       "      <td>Wednesday</td>\n",
       "      <td>KENNEDY SRT STATION</td>\n",
       "      <td>N</td>\n",
       "      <td>SRT</td>\n",
       "      <td>3025</td>\n",
       "      <td>SRDP</td>\n",
       "      <td>13</td>\n",
       "      <td>8</td>\n",
       "    </tr>\n",
       "    <tr>\n",
       "      <th>1</th>\n",
       "      <td>2020-01-01</td>\n",
       "      <td>01:27</td>\n",
       "      <td>Wednesday</td>\n",
       "      <td>SHEPPARD WEST STATION</td>\n",
       "      <td>S</td>\n",
       "      <td>YU</td>\n",
       "      <td>5591</td>\n",
       "      <td>MUI</td>\n",
       "      <td>12</td>\n",
       "      <td>7</td>\n",
       "    </tr>\n",
       "    <tr>\n",
       "      <th>2</th>\n",
       "      <td>2020-01-01</td>\n",
       "      <td>02:22</td>\n",
       "      <td>Wednesday</td>\n",
       "      <td>MAIN STREET STATION</td>\n",
       "      <td>W</td>\n",
       "      <td>BD</td>\n",
       "      <td>5371</td>\n",
       "      <td>EUNT</td>\n",
       "      <td>7</td>\n",
       "      <td>3</td>\n",
       "    </tr>\n",
       "    <tr>\n",
       "      <th>3</th>\n",
       "      <td>2020-01-01</td>\n",
       "      <td>03:54</td>\n",
       "      <td>Wednesday</td>\n",
       "      <td>KIPLING STATION</td>\n",
       "      <td>E</td>\n",
       "      <td>BD</td>\n",
       "      <td>5243</td>\n",
       "      <td>MUIS</td>\n",
       "      <td>0</td>\n",
       "      <td>0</td>\n",
       "    </tr>\n",
       "    <tr>\n",
       "      <th>4</th>\n",
       "      <td>2020-01-01</td>\n",
       "      <td>08:07</td>\n",
       "      <td>Wednesday</td>\n",
       "      <td>KEELE STATION</td>\n",
       "      <td>W</td>\n",
       "      <td>BD</td>\n",
       "      <td>5011</td>\n",
       "      <td>MUNOA</td>\n",
       "      <td>9</td>\n",
       "      <td>4</td>\n",
       "    </tr>\n",
       "  </tbody>\n",
       "</table>\n",
       "</div>"
      ],
      "text/plain": [
       "        Date   Time        Day                Station Bound Line  Vehicle  \\\n",
       "0 2020-01-01  01:18  Wednesday    KENNEDY SRT STATION     N  SRT     3025   \n",
       "1 2020-01-01  01:27  Wednesday  SHEPPARD WEST STATION     S   YU     5591   \n",
       "2 2020-01-01  02:22  Wednesday    MAIN STREET STATION     W   BD     5371   \n",
       "3 2020-01-01  03:54  Wednesday        KIPLING STATION     E   BD     5243   \n",
       "4 2020-01-01  08:07  Wednesday          KEELE STATION     W   BD     5011   \n",
       "\n",
       "    Code  Min Gap  Min Delay  \n",
       "0   SRDP       13          8  \n",
       "1    MUI       12          7  \n",
       "2   EUNT        7          3  \n",
       "3   MUIS        0          0  \n",
       "4  MUNOA        9          4  "
      ]
     },
     "execution_count": 37,
     "metadata": {},
     "output_type": "execute_result"
    }
   ],
   "source": [
    "df.head()"
   ]
  },
  {
   "cell_type": "code",
   "execution_count": 38,
   "metadata": {},
   "outputs": [],
   "source": [
    "df_NaN = df[df['Bound'].isna()]"
   ]
  },
  {
   "cell_type": "code",
   "execution_count": 39,
   "metadata": {},
   "outputs": [
    {
     "data": {
      "text/html": [
       "<div>\n",
       "<style scoped>\n",
       "    .dataframe tbody tr th:only-of-type {\n",
       "        vertical-align: middle;\n",
       "    }\n",
       "\n",
       "    .dataframe tbody tr th {\n",
       "        vertical-align: top;\n",
       "    }\n",
       "\n",
       "    .dataframe thead th {\n",
       "        text-align: right;\n",
       "    }\n",
       "</style>\n",
       "<table border=\"1\" class=\"dataframe\">\n",
       "  <thead>\n",
       "    <tr style=\"text-align: right;\">\n",
       "      <th></th>\n",
       "      <th>Date</th>\n",
       "      <th>Time</th>\n",
       "      <th>Day</th>\n",
       "      <th>Station</th>\n",
       "      <th>Bound</th>\n",
       "      <th>Line</th>\n",
       "      <th>Vehicle</th>\n",
       "      <th>Code</th>\n",
       "      <th>Min Gap</th>\n",
       "      <th>Min Delay</th>\n",
       "    </tr>\n",
       "  </thead>\n",
       "  <tbody>\n",
       "    <tr>\n",
       "      <th>13</th>\n",
       "      <td>2020-01-01</td>\n",
       "      <td>14:25</td>\n",
       "      <td>Wednesday</td>\n",
       "      <td>DUNDAS WEST STATION</td>\n",
       "      <td>NaN</td>\n",
       "      <td>BD</td>\n",
       "      <td>0</td>\n",
       "      <td>MUIS</td>\n",
       "      <td>0</td>\n",
       "      <td>0</td>\n",
       "    </tr>\n",
       "    <tr>\n",
       "      <th>19</th>\n",
       "      <td>2020-01-01</td>\n",
       "      <td>19:46</td>\n",
       "      <td>Wednesday</td>\n",
       "      <td>DUNDAS STATION</td>\n",
       "      <td>NaN</td>\n",
       "      <td>YU</td>\n",
       "      <td>0</td>\n",
       "      <td>MUIRS</td>\n",
       "      <td>0</td>\n",
       "      <td>0</td>\n",
       "    </tr>\n",
       "    <tr>\n",
       "      <th>20</th>\n",
       "      <td>2020-01-01</td>\n",
       "      <td>20:12</td>\n",
       "      <td>Wednesday</td>\n",
       "      <td>VICTORIA PARK STATION</td>\n",
       "      <td>NaN</td>\n",
       "      <td>BD</td>\n",
       "      <td>0</td>\n",
       "      <td>PUMEL</td>\n",
       "      <td>0</td>\n",
       "      <td>0</td>\n",
       "    </tr>\n",
       "    <tr>\n",
       "      <th>21</th>\n",
       "      <td>2020-01-01</td>\n",
       "      <td>22:00</td>\n",
       "      <td>Wednesday</td>\n",
       "      <td>YONGE-UNIVERSITY &amp; BLO</td>\n",
       "      <td>NaN</td>\n",
       "      <td>YU/BD</td>\n",
       "      <td>0</td>\n",
       "      <td>MUO</td>\n",
       "      <td>0</td>\n",
       "      <td>0</td>\n",
       "    </tr>\n",
       "    <tr>\n",
       "      <th>26</th>\n",
       "      <td>2020-01-02</td>\n",
       "      <td>00:37</td>\n",
       "      <td>Thursday</td>\n",
       "      <td>WARDEN STATION</td>\n",
       "      <td>NaN</td>\n",
       "      <td>BD</td>\n",
       "      <td>0</td>\n",
       "      <td>MUIS</td>\n",
       "      <td>0</td>\n",
       "      <td>0</td>\n",
       "    </tr>\n",
       "  </tbody>\n",
       "</table>\n",
       "</div>"
      ],
      "text/plain": [
       "         Date   Time        Day                 Station Bound   Line  Vehicle  \\\n",
       "13 2020-01-01  14:25  Wednesday     DUNDAS WEST STATION   NaN     BD        0   \n",
       "19 2020-01-01  19:46  Wednesday          DUNDAS STATION   NaN     YU        0   \n",
       "20 2020-01-01  20:12  Wednesday   VICTORIA PARK STATION   NaN     BD        0   \n",
       "21 2020-01-01  22:00  Wednesday  YONGE-UNIVERSITY & BLO   NaN  YU/BD        0   \n",
       "26 2020-01-02  00:37   Thursday          WARDEN STATION   NaN     BD        0   \n",
       "\n",
       "     Code  Min Gap  Min Delay  \n",
       "13   MUIS        0          0  \n",
       "19  MUIRS        0          0  \n",
       "20  PUMEL        0          0  \n",
       "21    MUO        0          0  \n",
       "26   MUIS        0          0  "
      ]
     },
     "execution_count": 39,
     "metadata": {},
     "output_type": "execute_result"
    }
   ],
   "source": [
    "df_NaN.head()"
   ]
  },
  {
   "cell_type": "code",
   "execution_count": 40,
   "metadata": {},
   "outputs": [],
   "source": [
    "df_no_NaN = pd.concat([df, df_NaN]).drop_duplicates(keep=False)"
   ]
  },
  {
   "cell_type": "code",
   "execution_count": 41,
   "metadata": {},
   "outputs": [
    {
     "data": {
      "text/html": [
       "<div>\n",
       "<style scoped>\n",
       "    .dataframe tbody tr th:only-of-type {\n",
       "        vertical-align: middle;\n",
       "    }\n",
       "\n",
       "    .dataframe tbody tr th {\n",
       "        vertical-align: top;\n",
       "    }\n",
       "\n",
       "    .dataframe thead th {\n",
       "        text-align: right;\n",
       "    }\n",
       "</style>\n",
       "<table border=\"1\" class=\"dataframe\">\n",
       "  <thead>\n",
       "    <tr style=\"text-align: right;\">\n",
       "      <th></th>\n",
       "      <th>Date</th>\n",
       "      <th>Time</th>\n",
       "      <th>Day</th>\n",
       "      <th>Station</th>\n",
       "      <th>Bound</th>\n",
       "      <th>Line</th>\n",
       "      <th>Vehicle</th>\n",
       "      <th>Code</th>\n",
       "      <th>Min Gap</th>\n",
       "      <th>Min Delay</th>\n",
       "    </tr>\n",
       "  </thead>\n",
       "  <tbody>\n",
       "    <tr>\n",
       "      <th>0</th>\n",
       "      <td>2020-01-01</td>\n",
       "      <td>01:18</td>\n",
       "      <td>Wednesday</td>\n",
       "      <td>KENNEDY SRT STATION</td>\n",
       "      <td>N</td>\n",
       "      <td>SRT</td>\n",
       "      <td>3025</td>\n",
       "      <td>SRDP</td>\n",
       "      <td>13</td>\n",
       "      <td>8</td>\n",
       "    </tr>\n",
       "    <tr>\n",
       "      <th>1</th>\n",
       "      <td>2020-01-01</td>\n",
       "      <td>01:27</td>\n",
       "      <td>Wednesday</td>\n",
       "      <td>SHEPPARD WEST STATION</td>\n",
       "      <td>S</td>\n",
       "      <td>YU</td>\n",
       "      <td>5591</td>\n",
       "      <td>MUI</td>\n",
       "      <td>12</td>\n",
       "      <td>7</td>\n",
       "    </tr>\n",
       "    <tr>\n",
       "      <th>2</th>\n",
       "      <td>2020-01-01</td>\n",
       "      <td>02:22</td>\n",
       "      <td>Wednesday</td>\n",
       "      <td>MAIN STREET STATION</td>\n",
       "      <td>W</td>\n",
       "      <td>BD</td>\n",
       "      <td>5371</td>\n",
       "      <td>EUNT</td>\n",
       "      <td>7</td>\n",
       "      <td>3</td>\n",
       "    </tr>\n",
       "    <tr>\n",
       "      <th>3</th>\n",
       "      <td>2020-01-01</td>\n",
       "      <td>03:54</td>\n",
       "      <td>Wednesday</td>\n",
       "      <td>KIPLING STATION</td>\n",
       "      <td>E</td>\n",
       "      <td>BD</td>\n",
       "      <td>5243</td>\n",
       "      <td>MUIS</td>\n",
       "      <td>0</td>\n",
       "      <td>0</td>\n",
       "    </tr>\n",
       "    <tr>\n",
       "      <th>4</th>\n",
       "      <td>2020-01-01</td>\n",
       "      <td>08:07</td>\n",
       "      <td>Wednesday</td>\n",
       "      <td>KEELE STATION</td>\n",
       "      <td>W</td>\n",
       "      <td>BD</td>\n",
       "      <td>5011</td>\n",
       "      <td>MUNOA</td>\n",
       "      <td>9</td>\n",
       "      <td>4</td>\n",
       "    </tr>\n",
       "  </tbody>\n",
       "</table>\n",
       "</div>"
      ],
      "text/plain": [
       "        Date   Time        Day                Station Bound Line  Vehicle  \\\n",
       "0 2020-01-01  01:18  Wednesday    KENNEDY SRT STATION     N  SRT     3025   \n",
       "1 2020-01-01  01:27  Wednesday  SHEPPARD WEST STATION     S   YU     5591   \n",
       "2 2020-01-01  02:22  Wednesday    MAIN STREET STATION     W   BD     5371   \n",
       "3 2020-01-01  03:54  Wednesday        KIPLING STATION     E   BD     5243   \n",
       "4 2020-01-01  08:07  Wednesday          KEELE STATION     W   BD     5011   \n",
       "\n",
       "    Code  Min Gap  Min Delay  \n",
       "0   SRDP       13          8  \n",
       "1    MUI       12          7  \n",
       "2   EUNT        7          3  \n",
       "3   MUIS        0          0  \n",
       "4  MUNOA        9          4  "
      ]
     },
     "execution_count": 41,
     "metadata": {},
     "output_type": "execute_result"
    }
   ],
   "source": [
    "df_no_NaN.head()"
   ]
  },
  {
   "cell_type": "code",
   "execution_count": 42,
   "metadata": {},
   "outputs": [
    {
     "name": "stderr",
     "output_type": "stream",
     "text": [
      "/opt/anaconda3/lib/python3.7/site-packages/ipykernel_launcher.py:1: SettingWithCopyWarning: \n",
      "A value is trying to be set on a copy of a slice from a DataFrame.\n",
      "Try using .loc[row_indexer,col_indexer] = value instead\n",
      "\n",
      "See the caveats in the documentation: https://pandas.pydata.org/pandas-docs/stable/user_guide/indexing.html#returning-a-view-versus-a-copy\n",
      "  \"\"\"Entry point for launching an IPython kernel.\n"
     ]
    }
   ],
   "source": [
    "df_NaN['Bound_imputed'] = 1"
   ]
  },
  {
   "cell_type": "code",
   "execution_count": 43,
   "metadata": {},
   "outputs": [],
   "source": [
    "df_no_NaN['Bound_imputed'] = 0"
   ]
  },
  {
   "cell_type": "code",
   "execution_count": 44,
   "metadata": {},
   "outputs": [
    {
     "data": {
      "text/html": [
       "<div>\n",
       "<style scoped>\n",
       "    .dataframe tbody tr th:only-of-type {\n",
       "        vertical-align: middle;\n",
       "    }\n",
       "\n",
       "    .dataframe tbody tr th {\n",
       "        vertical-align: top;\n",
       "    }\n",
       "\n",
       "    .dataframe thead th {\n",
       "        text-align: right;\n",
       "    }\n",
       "</style>\n",
       "<table border=\"1\" class=\"dataframe\">\n",
       "  <thead>\n",
       "    <tr style=\"text-align: right;\">\n",
       "      <th></th>\n",
       "      <th>Date</th>\n",
       "      <th>Time</th>\n",
       "      <th>Day</th>\n",
       "      <th>Station</th>\n",
       "      <th>Bound</th>\n",
       "      <th>Line</th>\n",
       "      <th>Vehicle</th>\n",
       "      <th>Code</th>\n",
       "      <th>Min Gap</th>\n",
       "      <th>Min Delay</th>\n",
       "      <th>Bound_imputed</th>\n",
       "    </tr>\n",
       "  </thead>\n",
       "  <tbody>\n",
       "    <tr>\n",
       "      <th>13</th>\n",
       "      <td>2020-01-01</td>\n",
       "      <td>14:25</td>\n",
       "      <td>Wednesday</td>\n",
       "      <td>DUNDAS WEST STATION</td>\n",
       "      <td>NaN</td>\n",
       "      <td>BD</td>\n",
       "      <td>0</td>\n",
       "      <td>MUIS</td>\n",
       "      <td>0</td>\n",
       "      <td>0</td>\n",
       "      <td>1</td>\n",
       "    </tr>\n",
       "    <tr>\n",
       "      <th>19</th>\n",
       "      <td>2020-01-01</td>\n",
       "      <td>19:46</td>\n",
       "      <td>Wednesday</td>\n",
       "      <td>DUNDAS STATION</td>\n",
       "      <td>NaN</td>\n",
       "      <td>YU</td>\n",
       "      <td>0</td>\n",
       "      <td>MUIRS</td>\n",
       "      <td>0</td>\n",
       "      <td>0</td>\n",
       "      <td>1</td>\n",
       "    </tr>\n",
       "    <tr>\n",
       "      <th>20</th>\n",
       "      <td>2020-01-01</td>\n",
       "      <td>20:12</td>\n",
       "      <td>Wednesday</td>\n",
       "      <td>VICTORIA PARK STATION</td>\n",
       "      <td>NaN</td>\n",
       "      <td>BD</td>\n",
       "      <td>0</td>\n",
       "      <td>PUMEL</td>\n",
       "      <td>0</td>\n",
       "      <td>0</td>\n",
       "      <td>1</td>\n",
       "    </tr>\n",
       "    <tr>\n",
       "      <th>21</th>\n",
       "      <td>2020-01-01</td>\n",
       "      <td>22:00</td>\n",
       "      <td>Wednesday</td>\n",
       "      <td>YONGE-UNIVERSITY &amp; BLO</td>\n",
       "      <td>NaN</td>\n",
       "      <td>YU/BD</td>\n",
       "      <td>0</td>\n",
       "      <td>MUO</td>\n",
       "      <td>0</td>\n",
       "      <td>0</td>\n",
       "      <td>1</td>\n",
       "    </tr>\n",
       "    <tr>\n",
       "      <th>26</th>\n",
       "      <td>2020-01-02</td>\n",
       "      <td>00:37</td>\n",
       "      <td>Thursday</td>\n",
       "      <td>WARDEN STATION</td>\n",
       "      <td>NaN</td>\n",
       "      <td>BD</td>\n",
       "      <td>0</td>\n",
       "      <td>MUIS</td>\n",
       "      <td>0</td>\n",
       "      <td>0</td>\n",
       "      <td>1</td>\n",
       "    </tr>\n",
       "  </tbody>\n",
       "</table>\n",
       "</div>"
      ],
      "text/plain": [
       "         Date   Time        Day                 Station Bound   Line  Vehicle  \\\n",
       "13 2020-01-01  14:25  Wednesday     DUNDAS WEST STATION   NaN     BD        0   \n",
       "19 2020-01-01  19:46  Wednesday          DUNDAS STATION   NaN     YU        0   \n",
       "20 2020-01-01  20:12  Wednesday   VICTORIA PARK STATION   NaN     BD        0   \n",
       "21 2020-01-01  22:00  Wednesday  YONGE-UNIVERSITY & BLO   NaN  YU/BD        0   \n",
       "26 2020-01-02  00:37   Thursday          WARDEN STATION   NaN     BD        0   \n",
       "\n",
       "     Code  Min Gap  Min Delay  Bound_imputed  \n",
       "13   MUIS        0          0              1  \n",
       "19  MUIRS        0          0              1  \n",
       "20  PUMEL        0          0              1  \n",
       "21    MUO        0          0              1  \n",
       "26   MUIS        0          0              1  "
      ]
     },
     "execution_count": 44,
     "metadata": {},
     "output_type": "execute_result"
    }
   ],
   "source": [
    "df_NaN.head()"
   ]
  },
  {
   "cell_type": "code",
   "execution_count": 45,
   "metadata": {},
   "outputs": [
    {
     "data": {
      "text/html": [
       "<div>\n",
       "<style scoped>\n",
       "    .dataframe tbody tr th:only-of-type {\n",
       "        vertical-align: middle;\n",
       "    }\n",
       "\n",
       "    .dataframe tbody tr th {\n",
       "        vertical-align: top;\n",
       "    }\n",
       "\n",
       "    .dataframe thead th {\n",
       "        text-align: right;\n",
       "    }\n",
       "</style>\n",
       "<table border=\"1\" class=\"dataframe\">\n",
       "  <thead>\n",
       "    <tr style=\"text-align: right;\">\n",
       "      <th></th>\n",
       "      <th>Date</th>\n",
       "      <th>Time</th>\n",
       "      <th>Day</th>\n",
       "      <th>Station</th>\n",
       "      <th>Bound</th>\n",
       "      <th>Line</th>\n",
       "      <th>Vehicle</th>\n",
       "      <th>Code</th>\n",
       "      <th>Min Gap</th>\n",
       "      <th>Min Delay</th>\n",
       "      <th>Bound_imputed</th>\n",
       "    </tr>\n",
       "  </thead>\n",
       "  <tbody>\n",
       "    <tr>\n",
       "      <th>0</th>\n",
       "      <td>2020-01-01</td>\n",
       "      <td>01:18</td>\n",
       "      <td>Wednesday</td>\n",
       "      <td>KENNEDY SRT STATION</td>\n",
       "      <td>N</td>\n",
       "      <td>SRT</td>\n",
       "      <td>3025</td>\n",
       "      <td>SRDP</td>\n",
       "      <td>13</td>\n",
       "      <td>8</td>\n",
       "      <td>0</td>\n",
       "    </tr>\n",
       "    <tr>\n",
       "      <th>1</th>\n",
       "      <td>2020-01-01</td>\n",
       "      <td>01:27</td>\n",
       "      <td>Wednesday</td>\n",
       "      <td>SHEPPARD WEST STATION</td>\n",
       "      <td>S</td>\n",
       "      <td>YU</td>\n",
       "      <td>5591</td>\n",
       "      <td>MUI</td>\n",
       "      <td>12</td>\n",
       "      <td>7</td>\n",
       "      <td>0</td>\n",
       "    </tr>\n",
       "    <tr>\n",
       "      <th>2</th>\n",
       "      <td>2020-01-01</td>\n",
       "      <td>02:22</td>\n",
       "      <td>Wednesday</td>\n",
       "      <td>MAIN STREET STATION</td>\n",
       "      <td>W</td>\n",
       "      <td>BD</td>\n",
       "      <td>5371</td>\n",
       "      <td>EUNT</td>\n",
       "      <td>7</td>\n",
       "      <td>3</td>\n",
       "      <td>0</td>\n",
       "    </tr>\n",
       "    <tr>\n",
       "      <th>3</th>\n",
       "      <td>2020-01-01</td>\n",
       "      <td>03:54</td>\n",
       "      <td>Wednesday</td>\n",
       "      <td>KIPLING STATION</td>\n",
       "      <td>E</td>\n",
       "      <td>BD</td>\n",
       "      <td>5243</td>\n",
       "      <td>MUIS</td>\n",
       "      <td>0</td>\n",
       "      <td>0</td>\n",
       "      <td>0</td>\n",
       "    </tr>\n",
       "    <tr>\n",
       "      <th>4</th>\n",
       "      <td>2020-01-01</td>\n",
       "      <td>08:07</td>\n",
       "      <td>Wednesday</td>\n",
       "      <td>KEELE STATION</td>\n",
       "      <td>W</td>\n",
       "      <td>BD</td>\n",
       "      <td>5011</td>\n",
       "      <td>MUNOA</td>\n",
       "      <td>9</td>\n",
       "      <td>4</td>\n",
       "      <td>0</td>\n",
       "    </tr>\n",
       "  </tbody>\n",
       "</table>\n",
       "</div>"
      ],
      "text/plain": [
       "        Date   Time        Day                Station Bound Line  Vehicle  \\\n",
       "0 2020-01-01  01:18  Wednesday    KENNEDY SRT STATION     N  SRT     3025   \n",
       "1 2020-01-01  01:27  Wednesday  SHEPPARD WEST STATION     S   YU     5591   \n",
       "2 2020-01-01  02:22  Wednesday    MAIN STREET STATION     W   BD     5371   \n",
       "3 2020-01-01  03:54  Wednesday        KIPLING STATION     E   BD     5243   \n",
       "4 2020-01-01  08:07  Wednesday          KEELE STATION     W   BD     5011   \n",
       "\n",
       "    Code  Min Gap  Min Delay  Bound_imputed  \n",
       "0   SRDP       13          8              0  \n",
       "1    MUI       12          7              0  \n",
       "2   EUNT        7          3              0  \n",
       "3   MUIS        0          0              0  \n",
       "4  MUNOA        9          4              0  "
      ]
     },
     "execution_count": 45,
     "metadata": {},
     "output_type": "execute_result"
    }
   ],
   "source": [
    "df_no_NaN.head()"
   ]
  },
  {
   "cell_type": "code",
   "execution_count": 46,
   "metadata": {},
   "outputs": [],
   "source": [
    "df_final = pd.concat([df_NaN,df_no_NaN],ignore_index=True)"
   ]
  },
  {
   "cell_type": "code",
   "execution_count": 47,
   "metadata": {},
   "outputs": [
    {
     "data": {
      "text/html": [
       "<div>\n",
       "<style scoped>\n",
       "    .dataframe tbody tr th:only-of-type {\n",
       "        vertical-align: middle;\n",
       "    }\n",
       "\n",
       "    .dataframe tbody tr th {\n",
       "        vertical-align: top;\n",
       "    }\n",
       "\n",
       "    .dataframe thead th {\n",
       "        text-align: right;\n",
       "    }\n",
       "</style>\n",
       "<table border=\"1\" class=\"dataframe\">\n",
       "  <thead>\n",
       "    <tr style=\"text-align: right;\">\n",
       "      <th></th>\n",
       "      <th>Date</th>\n",
       "      <th>Time</th>\n",
       "      <th>Day</th>\n",
       "      <th>Station</th>\n",
       "      <th>Bound</th>\n",
       "      <th>Line</th>\n",
       "      <th>Vehicle</th>\n",
       "      <th>Code</th>\n",
       "      <th>Min Gap</th>\n",
       "      <th>Min Delay</th>\n",
       "      <th>Bound_imputed</th>\n",
       "    </tr>\n",
       "  </thead>\n",
       "  <tbody>\n",
       "    <tr>\n",
       "      <th>0</th>\n",
       "      <td>2020-01-01</td>\n",
       "      <td>14:25</td>\n",
       "      <td>Wednesday</td>\n",
       "      <td>DUNDAS WEST STATION</td>\n",
       "      <td>NaN</td>\n",
       "      <td>BD</td>\n",
       "      <td>0</td>\n",
       "      <td>MUIS</td>\n",
       "      <td>0</td>\n",
       "      <td>0</td>\n",
       "      <td>1</td>\n",
       "    </tr>\n",
       "    <tr>\n",
       "      <th>1</th>\n",
       "      <td>2020-01-01</td>\n",
       "      <td>19:46</td>\n",
       "      <td>Wednesday</td>\n",
       "      <td>DUNDAS STATION</td>\n",
       "      <td>NaN</td>\n",
       "      <td>YU</td>\n",
       "      <td>0</td>\n",
       "      <td>MUIRS</td>\n",
       "      <td>0</td>\n",
       "      <td>0</td>\n",
       "      <td>1</td>\n",
       "    </tr>\n",
       "    <tr>\n",
       "      <th>2</th>\n",
       "      <td>2020-01-01</td>\n",
       "      <td>20:12</td>\n",
       "      <td>Wednesday</td>\n",
       "      <td>VICTORIA PARK STATION</td>\n",
       "      <td>NaN</td>\n",
       "      <td>BD</td>\n",
       "      <td>0</td>\n",
       "      <td>PUMEL</td>\n",
       "      <td>0</td>\n",
       "      <td>0</td>\n",
       "      <td>1</td>\n",
       "    </tr>\n",
       "    <tr>\n",
       "      <th>3</th>\n",
       "      <td>2020-01-01</td>\n",
       "      <td>22:00</td>\n",
       "      <td>Wednesday</td>\n",
       "      <td>YONGE-UNIVERSITY &amp; BLO</td>\n",
       "      <td>NaN</td>\n",
       "      <td>YU/BD</td>\n",
       "      <td>0</td>\n",
       "      <td>MUO</td>\n",
       "      <td>0</td>\n",
       "      <td>0</td>\n",
       "      <td>1</td>\n",
       "    </tr>\n",
       "    <tr>\n",
       "      <th>4</th>\n",
       "      <td>2020-01-02</td>\n",
       "      <td>00:37</td>\n",
       "      <td>Thursday</td>\n",
       "      <td>WARDEN STATION</td>\n",
       "      <td>NaN</td>\n",
       "      <td>BD</td>\n",
       "      <td>0</td>\n",
       "      <td>MUIS</td>\n",
       "      <td>0</td>\n",
       "      <td>0</td>\n",
       "      <td>1</td>\n",
       "    </tr>\n",
       "  </tbody>\n",
       "</table>\n",
       "</div>"
      ],
      "text/plain": [
       "        Date   Time        Day                 Station Bound   Line  Vehicle  \\\n",
       "0 2020-01-01  14:25  Wednesday     DUNDAS WEST STATION   NaN     BD        0   \n",
       "1 2020-01-01  19:46  Wednesday          DUNDAS STATION   NaN     YU        0   \n",
       "2 2020-01-01  20:12  Wednesday   VICTORIA PARK STATION   NaN     BD        0   \n",
       "3 2020-01-01  22:00  Wednesday  YONGE-UNIVERSITY & BLO   NaN  YU/BD        0   \n",
       "4 2020-01-02  00:37   Thursday          WARDEN STATION   NaN     BD        0   \n",
       "\n",
       "    Code  Min Gap  Min Delay  Bound_imputed  \n",
       "0   MUIS        0          0              1  \n",
       "1  MUIRS        0          0              1  \n",
       "2  PUMEL        0          0              1  \n",
       "3    MUO        0          0              1  \n",
       "4   MUIS        0          0              1  "
      ]
     },
     "execution_count": 47,
     "metadata": {},
     "output_type": "execute_result"
    }
   ],
   "source": [
    "df_final.head()"
   ]
  },
  {
   "cell_type": "code",
   "execution_count": 48,
   "metadata": {},
   "outputs": [
    {
     "data": {
      "text/plain": [
       "(10936, 11)"
      ]
     },
     "execution_count": 48,
     "metadata": {},
     "output_type": "execute_result"
    }
   ],
   "source": [
    "df_final.shape"
   ]
  },
  {
   "cell_type": "code",
   "execution_count": 49,
   "metadata": {},
   "outputs": [
    {
     "data": {
      "text/plain": [
       "Bound            2808\n",
       "Bound_imputed       0\n",
       "Min Delay           0\n",
       "Min Gap             0\n",
       "Code                0\n",
       "Vehicle             0\n",
       "Line                0\n",
       "Station             0\n",
       "Day                 0\n",
       "Time                0\n",
       "Date                0\n",
       "dtype: int64"
      ]
     },
     "execution_count": 49,
     "metadata": {},
     "output_type": "execute_result"
    }
   ],
   "source": [
    "df_final.isnull().sum().sort_values(ascending = False)"
   ]
  },
  {
   "cell_type": "code",
   "execution_count": 50,
   "metadata": {},
   "outputs": [
    {
     "data": {
      "text/plain": [
       "S    2980\n",
       "N    2188\n",
       "E    1479\n",
       "W    1458\n",
       "B      23\n",
       "Name: Bound, dtype: int64"
      ]
     },
     "execution_count": 50,
     "metadata": {},
     "output_type": "execute_result"
    }
   ],
   "source": [
    "df_final['Bound'].value_counts()"
   ]
  },
  {
   "cell_type": "code",
   "execution_count": 51,
   "metadata": {},
   "outputs": [],
   "source": [
    "B2_mode = df_final['Bound'].mode()[0]"
   ]
  },
  {
   "cell_type": "code",
   "execution_count": 52,
   "metadata": {},
   "outputs": [],
   "source": [
    "df_final['Bound'].fillna(B2_mode,inplace = True)"
   ]
  },
  {
   "cell_type": "code",
   "execution_count": 53,
   "metadata": {},
   "outputs": [
    {
     "data": {
      "text/plain": [
       "S    5788\n",
       "N    2188\n",
       "E    1479\n",
       "W    1458\n",
       "B      23\n",
       "Name: Bound, dtype: int64"
      ]
     },
     "execution_count": 53,
     "metadata": {},
     "output_type": "execute_result"
    }
   ],
   "source": [
    "df_final['Bound'].value_counts()"
   ]
  },
  {
   "cell_type": "code",
   "execution_count": 54,
   "metadata": {},
   "outputs": [
    {
     "data": {
      "text/plain": [
       "array(['S', 'N', 'W', 'E', 'B'], dtype=object)"
      ]
     },
     "execution_count": 54,
     "metadata": {},
     "output_type": "execute_result"
    }
   ],
   "source": [
    "df_final['Bound'].unique()"
   ]
  },
  {
   "cell_type": "code",
   "execution_count": 55,
   "metadata": {},
   "outputs": [
    {
     "data": {
      "text/html": [
       "<div>\n",
       "<style scoped>\n",
       "    .dataframe tbody tr th:only-of-type {\n",
       "        vertical-align: middle;\n",
       "    }\n",
       "\n",
       "    .dataframe tbody tr th {\n",
       "        vertical-align: top;\n",
       "    }\n",
       "\n",
       "    .dataframe thead th {\n",
       "        text-align: right;\n",
       "    }\n",
       "</style>\n",
       "<table border=\"1\" class=\"dataframe\">\n",
       "  <thead>\n",
       "    <tr style=\"text-align: right;\">\n",
       "      <th></th>\n",
       "      <th>Date</th>\n",
       "      <th>Time</th>\n",
       "      <th>Day</th>\n",
       "      <th>Station</th>\n",
       "      <th>Bound</th>\n",
       "      <th>Line</th>\n",
       "      <th>Vehicle</th>\n",
       "      <th>Code</th>\n",
       "      <th>Min Gap</th>\n",
       "      <th>Min Delay</th>\n",
       "      <th>Bound_imputed</th>\n",
       "    </tr>\n",
       "  </thead>\n",
       "  <tbody>\n",
       "    <tr>\n",
       "      <th>0</th>\n",
       "      <td>2020-01-01</td>\n",
       "      <td>14:25</td>\n",
       "      <td>Wednesday</td>\n",
       "      <td>DUNDAS WEST STATION</td>\n",
       "      <td>S</td>\n",
       "      <td>BD</td>\n",
       "      <td>0</td>\n",
       "      <td>MUIS</td>\n",
       "      <td>0</td>\n",
       "      <td>0</td>\n",
       "      <td>1</td>\n",
       "    </tr>\n",
       "    <tr>\n",
       "      <th>1</th>\n",
       "      <td>2020-01-01</td>\n",
       "      <td>19:46</td>\n",
       "      <td>Wednesday</td>\n",
       "      <td>DUNDAS STATION</td>\n",
       "      <td>S</td>\n",
       "      <td>YU</td>\n",
       "      <td>0</td>\n",
       "      <td>MUIRS</td>\n",
       "      <td>0</td>\n",
       "      <td>0</td>\n",
       "      <td>1</td>\n",
       "    </tr>\n",
       "    <tr>\n",
       "      <th>2</th>\n",
       "      <td>2020-01-01</td>\n",
       "      <td>20:12</td>\n",
       "      <td>Wednesday</td>\n",
       "      <td>VICTORIA PARK STATION</td>\n",
       "      <td>S</td>\n",
       "      <td>BD</td>\n",
       "      <td>0</td>\n",
       "      <td>PUMEL</td>\n",
       "      <td>0</td>\n",
       "      <td>0</td>\n",
       "      <td>1</td>\n",
       "    </tr>\n",
       "    <tr>\n",
       "      <th>3</th>\n",
       "      <td>2020-01-01</td>\n",
       "      <td>22:00</td>\n",
       "      <td>Wednesday</td>\n",
       "      <td>YONGE-UNIVERSITY &amp; BLO</td>\n",
       "      <td>S</td>\n",
       "      <td>YU/BD</td>\n",
       "      <td>0</td>\n",
       "      <td>MUO</td>\n",
       "      <td>0</td>\n",
       "      <td>0</td>\n",
       "      <td>1</td>\n",
       "    </tr>\n",
       "    <tr>\n",
       "      <th>4</th>\n",
       "      <td>2020-01-02</td>\n",
       "      <td>00:37</td>\n",
       "      <td>Thursday</td>\n",
       "      <td>WARDEN STATION</td>\n",
       "      <td>S</td>\n",
       "      <td>BD</td>\n",
       "      <td>0</td>\n",
       "      <td>MUIS</td>\n",
       "      <td>0</td>\n",
       "      <td>0</td>\n",
       "      <td>1</td>\n",
       "    </tr>\n",
       "  </tbody>\n",
       "</table>\n",
       "</div>"
      ],
      "text/plain": [
       "        Date   Time        Day                 Station Bound   Line  Vehicle  \\\n",
       "0 2020-01-01  14:25  Wednesday     DUNDAS WEST STATION     S     BD        0   \n",
       "1 2020-01-01  19:46  Wednesday          DUNDAS STATION     S     YU        0   \n",
       "2 2020-01-01  20:12  Wednesday   VICTORIA PARK STATION     S     BD        0   \n",
       "3 2020-01-01  22:00  Wednesday  YONGE-UNIVERSITY & BLO     S  YU/BD        0   \n",
       "4 2020-01-02  00:37   Thursday          WARDEN STATION     S     BD        0   \n",
       "\n",
       "    Code  Min Gap  Min Delay  Bound_imputed  \n",
       "0   MUIS        0          0              1  \n",
       "1  MUIRS        0          0              1  \n",
       "2  PUMEL        0          0              1  \n",
       "3    MUO        0          0              1  \n",
       "4   MUIS        0          0              1  "
      ]
     },
     "execution_count": 55,
     "metadata": {},
     "output_type": "execute_result"
    }
   ],
   "source": [
    "df_final.head()"
   ]
  },
  {
   "cell_type": "code",
   "execution_count": 56,
   "metadata": {},
   "outputs": [
    {
     "data": {
      "text/plain": [
       "array([1, 0])"
      ]
     },
     "execution_count": 56,
     "metadata": {},
     "output_type": "execute_result"
    }
   ],
   "source": [
    "df_final['Bound_imputed'].unique()"
   ]
  },
  {
   "cell_type": "code",
   "execution_count": 57,
   "metadata": {},
   "outputs": [
    {
     "data": {
      "text/plain": [
       "0    8128\n",
       "1    2808\n",
       "Name: Bound_imputed, dtype: int64"
      ]
     },
     "execution_count": 57,
     "metadata": {},
     "output_type": "execute_result"
    }
   ],
   "source": [
    "df_final['Bound_imputed'].value_counts()"
   ]
  },
  {
   "cell_type": "code",
   "execution_count": 58,
   "metadata": {},
   "outputs": [],
   "source": [
    "df_final = df_final.loc[:,['Date','Time','Day','Station','Bound','Bound_imputed','Line','Vehicle','Code','Min Gap','Min Delay']]"
   ]
  },
  {
   "cell_type": "code",
   "execution_count": 77,
   "metadata": {},
   "outputs": [
    {
     "data": {
      "text/html": [
       "<div>\n",
       "<style scoped>\n",
       "    .dataframe tbody tr th:only-of-type {\n",
       "        vertical-align: middle;\n",
       "    }\n",
       "\n",
       "    .dataframe tbody tr th {\n",
       "        vertical-align: top;\n",
       "    }\n",
       "\n",
       "    .dataframe thead th {\n",
       "        text-align: right;\n",
       "    }\n",
       "</style>\n",
       "<table border=\"1\" class=\"dataframe\">\n",
       "  <thead>\n",
       "    <tr style=\"text-align: right;\">\n",
       "      <th></th>\n",
       "      <th>Date</th>\n",
       "      <th>Time</th>\n",
       "      <th>Day</th>\n",
       "      <th>Station</th>\n",
       "      <th>Bound</th>\n",
       "      <th>Bound_imputed</th>\n",
       "      <th>Line</th>\n",
       "      <th>Vehicle</th>\n",
       "      <th>Code</th>\n",
       "      <th>Min Gap</th>\n",
       "      <th>Min Delay</th>\n",
       "    </tr>\n",
       "  </thead>\n",
       "  <tbody>\n",
       "    <tr>\n",
       "      <th>0</th>\n",
       "      <td>2020-01-01</td>\n",
       "      <td>14:25</td>\n",
       "      <td>Wednesday</td>\n",
       "      <td>DUNDAS WEST STATION</td>\n",
       "      <td>S</td>\n",
       "      <td>1</td>\n",
       "      <td>BD</td>\n",
       "      <td>0</td>\n",
       "      <td>MUIS</td>\n",
       "      <td>0</td>\n",
       "      <td>0</td>\n",
       "    </tr>\n",
       "    <tr>\n",
       "      <th>1</th>\n",
       "      <td>2020-01-01</td>\n",
       "      <td>19:46</td>\n",
       "      <td>Wednesday</td>\n",
       "      <td>DUNDAS STATION</td>\n",
       "      <td>S</td>\n",
       "      <td>1</td>\n",
       "      <td>YU</td>\n",
       "      <td>0</td>\n",
       "      <td>MUIRS</td>\n",
       "      <td>0</td>\n",
       "      <td>0</td>\n",
       "    </tr>\n",
       "    <tr>\n",
       "      <th>2</th>\n",
       "      <td>2020-01-01</td>\n",
       "      <td>20:12</td>\n",
       "      <td>Wednesday</td>\n",
       "      <td>VICTORIA PARK STATION</td>\n",
       "      <td>S</td>\n",
       "      <td>1</td>\n",
       "      <td>BD</td>\n",
       "      <td>0</td>\n",
       "      <td>PUMEL</td>\n",
       "      <td>0</td>\n",
       "      <td>0</td>\n",
       "    </tr>\n",
       "    <tr>\n",
       "      <th>3</th>\n",
       "      <td>2020-01-01</td>\n",
       "      <td>22:00</td>\n",
       "      <td>Wednesday</td>\n",
       "      <td>YONGE-UNIVERSITY &amp; BLO</td>\n",
       "      <td>S</td>\n",
       "      <td>1</td>\n",
       "      <td>YU/BD</td>\n",
       "      <td>0</td>\n",
       "      <td>MUO</td>\n",
       "      <td>0</td>\n",
       "      <td>0</td>\n",
       "    </tr>\n",
       "    <tr>\n",
       "      <th>4</th>\n",
       "      <td>2020-01-02</td>\n",
       "      <td>00:37</td>\n",
       "      <td>Thursday</td>\n",
       "      <td>WARDEN STATION</td>\n",
       "      <td>S</td>\n",
       "      <td>1</td>\n",
       "      <td>BD</td>\n",
       "      <td>0</td>\n",
       "      <td>MUIS</td>\n",
       "      <td>0</td>\n",
       "      <td>0</td>\n",
       "    </tr>\n",
       "  </tbody>\n",
       "</table>\n",
       "</div>"
      ],
      "text/plain": [
       "        Date   Time        Day                 Station Bound  Bound_imputed  \\\n",
       "0 2020-01-01  14:25  Wednesday     DUNDAS WEST STATION     S              1   \n",
       "1 2020-01-01  19:46  Wednesday          DUNDAS STATION     S              1   \n",
       "2 2020-01-01  20:12  Wednesday   VICTORIA PARK STATION     S              1   \n",
       "3 2020-01-01  22:00  Wednesday  YONGE-UNIVERSITY & BLO     S              1   \n",
       "4 2020-01-02  00:37   Thursday          WARDEN STATION     S              1   \n",
       "\n",
       "    Line  Vehicle   Code  Min Gap  Min Delay  \n",
       "0     BD        0   MUIS        0          0  \n",
       "1     YU        0  MUIRS        0          0  \n",
       "2     BD        0  PUMEL        0          0  \n",
       "3  YU/BD        0    MUO        0          0  \n",
       "4     BD        0   MUIS        0          0  "
      ]
     },
     "execution_count": 77,
     "metadata": {},
     "output_type": "execute_result"
    }
   ],
   "source": [
    "df_final.head()"
   ]
  },
  {
   "cell_type": "code",
   "execution_count": 60,
   "metadata": {},
   "outputs": [
    {
     "data": {
      "text/plain": [
       "Date             datetime64[ns]\n",
       "Time                     object\n",
       "Day                      object\n",
       "Station                  object\n",
       "Bound                    object\n",
       "Bound_imputed             int64\n",
       "Line                     object\n",
       "Vehicle                   int64\n",
       "Code                     object\n",
       "Min Gap                   int64\n",
       "Min Delay                 int64\n",
       "dtype: object"
      ]
     },
     "execution_count": 60,
     "metadata": {},
     "output_type": "execute_result"
    }
   ],
   "source": [
    "df_final.dtypes"
   ]
  },
  {
   "cell_type": "code",
   "execution_count": 61,
   "metadata": {},
   "outputs": [
    {
     "data": {
      "text/plain": [
       "10936"
      ]
     },
     "execution_count": 61,
     "metadata": {},
     "output_type": "execute_result"
    }
   ],
   "source": [
    "df_final['Min Delay'].value_counts().sum()"
   ]
  },
  {
   "cell_type": "code",
   "execution_count": 62,
   "metadata": {},
   "outputs": [
    {
     "data": {
      "text/plain": [
       "10936"
      ]
     },
     "execution_count": 62,
     "metadata": {},
     "output_type": "execute_result"
    }
   ],
   "source": [
    "df_final['Bound'].value_counts().sum()"
   ]
  },
  {
   "cell_type": "code",
   "execution_count": 98,
   "metadata": {},
   "outputs": [
    {
     "data": {
      "text/plain": [
       "Time             1363\n",
       "Vehicle           629\n",
       "Date              213\n",
       "Station           209\n",
       "Code              173\n",
       "Min Gap           107\n",
       "Min Delay         100\n",
       "Line               12\n",
       "Day                 7\n",
       "Bound               5\n",
       "Bound_imputed       2\n",
       "dtype: int64"
      ]
     },
     "execution_count": 98,
     "metadata": {},
     "output_type": "execute_result"
    }
   ],
   "source": [
    "df_final.nunique().sort_values(ascending = False)"
   ]
  },
  {
   "cell_type": "code",
   "execution_count": 99,
   "metadata": {},
   "outputs": [
    {
     "data": {
      "text/plain": [
       "Time         793\n",
       "Vehicle      380\n",
       "Station      114\n",
       "Code         101\n",
       "Min Gap       36\n",
       "Min Delay     34\n",
       "Date          31\n",
       "Line           7\n",
       "Day            7\n",
       "Bound          4\n",
       "dtype: int64"
      ]
     },
     "execution_count": 99,
     "metadata": {},
     "output_type": "execute_result"
    }
   ],
   "source": [
    "df1.nunique().sort_values(ascending = False)"
   ]
  },
  {
   "cell_type": "code",
   "execution_count": 100,
   "metadata": {},
   "outputs": [
    {
     "data": {
      "text/plain": [
       "Time         765\n",
       "Vehicle      298\n",
       "Station      104\n",
       "Code         101\n",
       "Min Gap       43\n",
       "Min Delay     41\n",
       "Date          31\n",
       "Line           7\n",
       "Day            7\n",
       "Bound          4\n",
       "dtype: int64"
      ]
     },
     "execution_count": 100,
     "metadata": {},
     "output_type": "execute_result"
    }
   ],
   "source": [
    "df2.nunique().sort_values(ascending = False)"
   ]
  },
  {
   "cell_type": "code",
   "execution_count": 101,
   "metadata": {},
   "outputs": [
    {
     "data": {
      "text/plain": [
       "Time         1352\n",
       "Vehicle       589\n",
       "Station       176\n",
       "Code          163\n",
       "Date          151\n",
       "Min Gap        95\n",
       "Min Delay      89\n",
       "Line           10\n",
       "Day             7\n",
       "Bound           5\n",
       "dtype: int64"
      ]
     },
     "execution_count": 101,
     "metadata": {},
     "output_type": "execute_result"
    }
   ],
   "source": [
    "df3.nunique().sort_values(ascending = False)"
   ]
  },
  {
   "cell_type": "code",
   "execution_count": 63,
   "metadata": {},
   "outputs": [
    {
     "data": {
      "image/png": "[encoded data removed]",
      "text/plain": [
       "<Figure size 432x288 with 1 Axes>"
      ]
     },
     "metadata": {
      "needs_background": "light"
     },
     "output_type": "display_data"
    }
   ],
   "source": [
    "sns.barplot(x = 'Bound',y = 'Min Delay',data = df_final)\n",
    "plt.show()"
   ]
  },
  {
   "cell_type": "code",
   "execution_count": 86,
   "metadata": {},
   "outputs": [
    {
     "data": {
      "image/png": "[encoded data removed]",
      "text/plain": [
       "<Figure size 432x288 with 1 Axes>"
      ]
     },
     "metadata": {
      "needs_background": "light"
     },
     "output_type": "display_data"
    }
   ],
   "source": [
    "sns.barplot(x = 'Bound',y = 'Min Delay',data = df1)\n",
    "plt.show()"
   ]
  },
  {
   "cell_type": "code",
   "execution_count": 87,
   "metadata": {},
   "outputs": [
    {
     "data": {
      "image/png": "[encoded data removed]",
      "text/plain": [
       "<Figure size 432x288 with 1 Axes>"
      ]
     },
     "metadata": {
      "needs_background": "light"
     },
     "output_type": "display_data"
    }
   ],
   "source": [
    "sns.barplot(x = 'Bound',y = 'Min Delay',data = df2)\n",
    "plt.show()"
   ]
  },
  {
   "cell_type": "code",
   "execution_count": 88,
   "metadata": {},
   "outputs": [
    {
     "data": {
      "image/png": "[encoded data removed]",
      "text/plain": [
       "<Figure size 432x288 with 1 Axes>"
      ]
     },
     "metadata": {
      "needs_background": "light"
     },
     "output_type": "display_data"
    }
   ],
   "source": [
    "sns.barplot(x = 'Bound',y = 'Min Delay',data = df3)\n",
    "plt.show()"
   ]
  },
  {
   "cell_type": "code",
   "execution_count": 64,
   "metadata": {},
   "outputs": [
    {
     "data": {
      "image/png": "[encoded data removed]",
      "text/plain": [
       "<Figure size 432x288 with 1 Axes>"
      ]
     },
     "metadata": {
      "needs_background": "light"
     },
     "output_type": "display_data"
    }
   ],
   "source": [
    "sns.barplot(x = 'Line',y = 'Min Delay',data = df_final)\n",
    "plt.show()"
   ]
  },
  {
   "cell_type": "code",
   "execution_count": 89,
   "metadata": {},
   "outputs": [
    {
     "data": {
      "image/png": "[encoded data removed]",
      "text/plain": [
       "<Figure size 432x288 with 1 Axes>"
      ]
     },
     "metadata": {
      "needs_background": "light"
     },
     "output_type": "display_data"
    }
   ],
   "source": [
    "sns.barplot(x = 'Line',y = 'Min Delay',data = df1)\n",
    "plt.show()"
   ]
  },
  {
   "cell_type": "code",
   "execution_count": 90,
   "metadata": {},
   "outputs": [
    {
     "data": {
      "image/png": "[encoded data removed]",
      "text/plain": [
       "<Figure size 432x288 with 1 Axes>"
      ]
     },
     "metadata": {
      "needs_background": "light"
     },
     "output_type": "display_data"
    }
   ],
   "source": [
    "sns.barplot(x = 'Line',y = 'Min Delay',data = df2)\n",
    "plt.show()"
   ]
  },
  {
   "cell_type": "code",
   "execution_count": 91,
   "metadata": {},
   "outputs": [
    {
     "data": {
      "image/png": "[encoded data removed]",
      "text/plain": [
       "<Figure size 432x288 with 1 Axes>"
      ]
     },
     "metadata": {
      "needs_background": "light"
     },
     "output_type": "display_data"
    }
   ],
   "source": [
    "sns.barplot(x = 'Line',y = 'Min Delay',data = df3)\n",
    "plt.show()"
   ]
  },
  {
   "cell_type": "code",
   "execution_count": 65,
   "metadata": {},
   "outputs": [
    {
     "data": {
      "image/png": "[encoded data removed]",
      "text/plain": [
       "<Figure size 432x288 with 1 Axes>"
      ]
     },
     "metadata": {
      "needs_background": "light"
     },
     "output_type": "display_data"
    }
   ],
   "source": [
    "sns.barplot(x = 'Day',y = 'Min Delay',data = df_final)\n",
    "plt.show()"
   ]
  },
  {
   "cell_type": "code",
   "execution_count": 116,
   "metadata": {},
   "outputs": [
    {
     "data": {
      "text/plain": [
       "array(['2020-01-01T00:00:00.000000000', '2020-01-02T00:00:00.000000000',\n",
       "       '2020-01-03T00:00:00.000000000', '2020-01-04T00:00:00.000000000',\n",
       "       '2020-01-05T00:00:00.000000000', '2020-01-06T00:00:00.000000000',\n",
       "       '2020-01-07T00:00:00.000000000', '2020-01-08T00:00:00.000000000',\n",
       "       '2020-01-09T00:00:00.000000000', '2020-01-10T00:00:00.000000000',\n",
       "       '2020-01-11T00:00:00.000000000', '2020-01-12T00:00:00.000000000',\n",
       "       '2020-01-13T00:00:00.000000000', '2020-01-14T00:00:00.000000000',\n",
       "       '2020-01-15T00:00:00.000000000', '2020-01-16T00:00:00.000000000',\n",
       "       '2020-01-17T00:00:00.000000000', '2020-01-18T00:00:00.000000000',\n",
       "       '2020-01-19T00:00:00.000000000', '2020-01-20T00:00:00.000000000',\n",
       "       '2020-01-21T00:00:00.000000000', '2020-01-22T00:00:00.000000000',\n",
       "       '2020-01-23T00:00:00.000000000', '2020-01-24T00:00:00.000000000',\n",
       "       '2020-01-25T00:00:00.000000000', '2020-01-26T00:00:00.000000000',\n",
       "       '2020-01-27T00:00:00.000000000', '2020-01-28T00:00:00.000000000',\n",
       "       '2020-01-29T00:00:00.000000000', '2020-01-30T00:00:00.000000000',\n",
       "       '2020-01-31T00:00:00.000000000'], dtype='datetime64[ns]')"
      ]
     },
     "execution_count": 116,
     "metadata": {},
     "output_type": "execute_result"
    }
   ],
   "source": [
    "df1['Date'].unique()"
   ]
  },
  {
   "cell_type": "code",
   "execution_count": 92,
   "metadata": {},
   "outputs": [
    {
     "data": {
      "image/png": "[encoded data removed]",
      "text/plain": [
       "<Figure size 432x288 with 1 Axes>"
      ]
     },
     "metadata": {
      "needs_background": "light"
     },
     "output_type": "display_data"
    }
   ],
   "source": [
    "sns.barplot(x = 'Day',y = 'Min Delay',data = df1)\n",
    "plt.show()"
   ]
  },
  {
   "cell_type": "code",
   "execution_count": 115,
   "metadata": {},
   "outputs": [
    {
     "data": {
      "text/plain": [
       "array(['2021-01-01T00:00:00.000000000', '2021-01-02T00:00:00.000000000',\n",
       "       '2021-01-03T00:00:00.000000000', '2021-01-04T00:00:00.000000000',\n",
       "       '2021-01-05T00:00:00.000000000', '2021-01-06T00:00:00.000000000',\n",
       "       '2021-01-07T00:00:00.000000000', '2021-01-08T00:00:00.000000000',\n",
       "       '2021-01-09T00:00:00.000000000', '2021-01-10T00:00:00.000000000',\n",
       "       '2021-01-11T00:00:00.000000000', '2021-01-12T00:00:00.000000000',\n",
       "       '2021-01-13T00:00:00.000000000', '2021-01-14T00:00:00.000000000',\n",
       "       '2021-01-15T00:00:00.000000000', '2021-01-16T00:00:00.000000000',\n",
       "       '2021-01-17T00:00:00.000000000', '2021-01-18T00:00:00.000000000',\n",
       "       '2021-01-19T00:00:00.000000000', '2021-01-20T00:00:00.000000000',\n",
       "       '2021-01-21T00:00:00.000000000', '2021-01-22T00:00:00.000000000',\n",
       "       '2021-01-23T00:00:00.000000000', '2021-01-24T00:00:00.000000000',\n",
       "       '2021-01-25T00:00:00.000000000', '2021-01-26T00:00:00.000000000',\n",
       "       '2021-01-27T00:00:00.000000000', '2021-01-28T00:00:00.000000000',\n",
       "       '2021-01-29T00:00:00.000000000', '2021-01-30T00:00:00.000000000',\n",
       "       '2021-01-31T00:00:00.000000000'], dtype='datetime64[ns]')"
      ]
     },
     "execution_count": 115,
     "metadata": {},
     "output_type": "execute_result"
    }
   ],
   "source": [
    "df2['Date'].unique()"
   ]
  },
  {
   "cell_type": "code",
   "execution_count": 93,
   "metadata": {},
   "outputs": [
    {
     "data": {
      "image/png": "[encoded data removed]",
      "text/plain": [
       "<Figure size 432x288 with 1 Axes>"
      ]
     },
     "metadata": {
      "needs_background": "light"
     },
     "output_type": "display_data"
    }
   ],
   "source": [
    "sns.barplot(x = 'Day',y = 'Min Delay',data = df2)\n",
    "plt.show()"
   ]
  },
  {
   "cell_type": "code",
   "execution_count": 117,
   "metadata": {},
   "outputs": [
    {
     "data": {
      "text/plain": [
       "array(['2022-01-01T00:00:00.000000000', '2022-01-02T00:00:00.000000000',\n",
       "       '2022-01-03T00:00:00.000000000', '2022-01-04T00:00:00.000000000',\n",
       "       '2022-01-05T00:00:00.000000000', '2022-01-06T00:00:00.000000000',\n",
       "       '2022-01-07T00:00:00.000000000', '2022-01-08T00:00:00.000000000',\n",
       "       '2022-01-09T00:00:00.000000000', '2022-01-10T00:00:00.000000000',\n",
       "       '2022-01-11T00:00:00.000000000', '2022-01-12T00:00:00.000000000',\n",
       "       '2022-01-13T00:00:00.000000000', '2022-01-14T00:00:00.000000000',\n",
       "       '2022-01-15T00:00:00.000000000', '2022-01-16T00:00:00.000000000',\n",
       "       '2022-01-17T00:00:00.000000000', '2022-01-18T00:00:00.000000000',\n",
       "       '2022-01-19T00:00:00.000000000', '2022-01-20T00:00:00.000000000',\n",
       "       '2022-01-21T00:00:00.000000000', '2022-01-22T00:00:00.000000000',\n",
       "       '2022-01-23T00:00:00.000000000', '2022-01-24T00:00:00.000000000',\n",
       "       '2022-01-25T00:00:00.000000000', '2022-01-26T00:00:00.000000000',\n",
       "       '2022-01-27T00:00:00.000000000', '2022-01-28T00:00:00.000000000',\n",
       "       '2022-01-29T00:00:00.000000000', '2022-01-30T00:00:00.000000000',\n",
       "       '2022-01-31T00:00:00.000000000', '2022-02-01T00:00:00.000000000',\n",
       "       '2022-02-02T00:00:00.000000000', '2022-02-03T00:00:00.000000000',\n",
       "       '2022-02-04T00:00:00.000000000', '2022-02-05T00:00:00.000000000',\n",
       "       '2022-02-06T00:00:00.000000000', '2022-02-07T00:00:00.000000000',\n",
       "       '2022-02-08T00:00:00.000000000', '2022-02-09T00:00:00.000000000',\n",
       "       '2022-02-10T00:00:00.000000000', '2022-02-11T00:00:00.000000000',\n",
       "       '2022-02-12T00:00:00.000000000', '2022-02-13T00:00:00.000000000',\n",
       "       '2022-02-14T00:00:00.000000000', '2022-02-15T00:00:00.000000000',\n",
       "       '2022-02-16T00:00:00.000000000', '2022-02-17T00:00:00.000000000',\n",
       "       '2022-02-18T00:00:00.000000000', '2022-02-19T00:00:00.000000000',\n",
       "       '2022-02-20T00:00:00.000000000', '2022-02-21T00:00:00.000000000',\n",
       "       '2022-02-22T00:00:00.000000000', '2022-02-23T00:00:00.000000000',\n",
       "       '2022-02-24T00:00:00.000000000', '2022-02-25T00:00:00.000000000',\n",
       "       '2022-02-26T00:00:00.000000000', '2022-02-27T00:00:00.000000000',\n",
       "       '2022-02-28T00:00:00.000000000', '2022-03-01T00:00:00.000000000',\n",
       "       '2022-03-02T00:00:00.000000000', '2022-03-03T00:00:00.000000000',\n",
       "       '2022-03-04T00:00:00.000000000', '2022-03-05T00:00:00.000000000',\n",
       "       '2022-03-06T00:00:00.000000000', '2022-03-07T00:00:00.000000000',\n",
       "       '2022-03-08T00:00:00.000000000', '2022-03-09T00:00:00.000000000',\n",
       "       '2022-03-10T00:00:00.000000000', '2022-03-11T00:00:00.000000000',\n",
       "       '2022-03-12T00:00:00.000000000', '2022-03-13T00:00:00.000000000',\n",
       "       '2022-03-14T00:00:00.000000000', '2022-03-15T00:00:00.000000000',\n",
       "       '2022-03-16T00:00:00.000000000', '2022-03-17T00:00:00.000000000',\n",
       "       '2022-03-18T00:00:00.000000000', '2022-03-19T00:00:00.000000000',\n",
       "       '2022-03-20T00:00:00.000000000', '2022-03-21T00:00:00.000000000',\n",
       "       '2022-03-22T00:00:00.000000000', '2022-03-23T00:00:00.000000000',\n",
       "       '2022-03-24T00:00:00.000000000', '2022-03-25T00:00:00.000000000',\n",
       "       '2022-03-26T00:00:00.000000000', '2022-03-27T00:00:00.000000000',\n",
       "       '2022-03-28T00:00:00.000000000', '2022-03-29T00:00:00.000000000',\n",
       "       '2022-03-30T00:00:00.000000000', '2022-03-31T00:00:00.000000000',\n",
       "       '2022-04-01T00:00:00.000000000', '2022-04-02T00:00:00.000000000',\n",
       "       '2022-04-03T00:00:00.000000000', '2022-04-04T00:00:00.000000000',\n",
       "       '2022-04-05T00:00:00.000000000', '2022-04-06T00:00:00.000000000',\n",
       "       '2022-04-07T00:00:00.000000000', '2022-04-08T00:00:00.000000000',\n",
       "       '2022-04-09T00:00:00.000000000', '2022-04-10T00:00:00.000000000',\n",
       "       '2022-04-11T00:00:00.000000000', '2022-04-12T00:00:00.000000000',\n",
       "       '2022-04-13T00:00:00.000000000', '2022-04-14T00:00:00.000000000',\n",
       "       '2022-04-15T00:00:00.000000000', '2022-04-16T00:00:00.000000000',\n",
       "       '2022-04-17T00:00:00.000000000', '2022-04-18T00:00:00.000000000',\n",
       "       '2022-04-19T00:00:00.000000000', '2022-04-20T00:00:00.000000000',\n",
       "       '2022-04-21T00:00:00.000000000', '2022-04-22T00:00:00.000000000',\n",
       "       '2022-04-23T00:00:00.000000000', '2022-04-24T00:00:00.000000000',\n",
       "       '2022-04-25T00:00:00.000000000', '2022-04-26T00:00:00.000000000',\n",
       "       '2022-04-27T00:00:00.000000000', '2022-04-28T00:00:00.000000000',\n",
       "       '2022-04-29T00:00:00.000000000', '2022-04-30T00:00:00.000000000',\n",
       "       '2022-05-01T00:00:00.000000000', '2022-05-02T00:00:00.000000000',\n",
       "       '2022-05-03T00:00:00.000000000', '2022-05-04T00:00:00.000000000',\n",
       "       '2022-05-05T00:00:00.000000000', '2022-05-06T00:00:00.000000000',\n",
       "       '2022-05-07T00:00:00.000000000', '2022-05-08T00:00:00.000000000',\n",
       "       '2022-05-09T00:00:00.000000000', '2022-05-10T00:00:00.000000000',\n",
       "       '2022-05-11T00:00:00.000000000', '2022-05-12T00:00:00.000000000',\n",
       "       '2022-05-13T00:00:00.000000000', '2022-05-14T00:00:00.000000000',\n",
       "       '2022-05-15T00:00:00.000000000', '2022-05-16T00:00:00.000000000',\n",
       "       '2022-05-17T00:00:00.000000000', '2022-05-18T00:00:00.000000000',\n",
       "       '2022-05-19T00:00:00.000000000', '2022-05-20T00:00:00.000000000',\n",
       "       '2022-05-21T00:00:00.000000000', '2022-05-22T00:00:00.000000000',\n",
       "       '2022-05-23T00:00:00.000000000', '2022-05-24T00:00:00.000000000',\n",
       "       '2022-05-25T00:00:00.000000000', '2022-05-26T00:00:00.000000000',\n",
       "       '2022-05-27T00:00:00.000000000', '2022-05-28T00:00:00.000000000',\n",
       "       '2022-05-29T00:00:00.000000000', '2022-05-30T00:00:00.000000000',\n",
       "       '2022-05-31T00:00:00.000000000'], dtype='datetime64[ns]')"
      ]
     },
     "execution_count": 117,
     "metadata": {},
     "output_type": "execute_result"
    }
   ],
   "source": [
    "df3['Date'].unique()"
   ]
  },
  {
   "cell_type": "code",
   "execution_count": 94,
   "metadata": {},
   "outputs": [
    {
     "data": {
      "image/png": "[encoded data removed]",
      "text/plain": [
       "<Figure size 432x288 with 1 Axes>"
      ]
     },
     "metadata": {
      "needs_background": "light"
     },
     "output_type": "display_data"
    }
   ],
   "source": [
    "sns.barplot(x = 'Day',y = 'Min Delay',data = df3)\n",
    "plt.show()"
   ]
  },
  {
   "cell_type": "code",
   "execution_count": 66,
   "metadata": {},
   "outputs": [
    {
     "data": {
      "image/png": "[encoded data removed]",
      "text/plain": [
       "<Figure size 432x288 with 1 Axes>"
      ]
     },
     "metadata": {
      "needs_background": "light"
     },
     "output_type": "display_data"
    }
   ],
   "source": [
    "vehicle = df_final['Vehicle']\n",
    "delay = df_final['Min Delay']\n",
    "plt.scatter(vehicle,delay)\n",
    "plt.show()"
   ]
  },
  {
   "cell_type": "code",
   "execution_count": 67,
   "metadata": {},
   "outputs": [
    {
     "data": {
      "image/png": "[encoded data removed]",
      "text/plain": [
       "<Figure size 432x288 with 1 Axes>"
      ]
     },
     "metadata": {
      "needs_background": "light"
     },
     "output_type": "display_data"
    }
   ],
   "source": [
    "gap = df_final['Min Gap']\n",
    "delay = df_final['Min Delay']\n",
    "plt.scatter(gap,delay)\n",
    "plt.show()"
   ]
  },
  {
   "cell_type": "code",
   "execution_count": 108,
   "metadata": {},
   "outputs": [
    {
     "data": {
      "image/png": "[encoded data removed]",
      "text/plain": [
       "<Figure size 432x288 with 1 Axes>"
      ]
     },
     "metadata": {
      "needs_background": "light"
     },
     "output_type": "display_data"
    }
   ],
   "source": [
    "sns.barplot(x = 'Code',y = 'Min Delay',data = df_final)\n",
    "plt.show()"
   ]
  },
  {
   "cell_type": "code",
   "execution_count": null,
   "metadata": {},
   "outputs": [],
   "source": []
  },
  {
   "cell_type": "code",
   "execution_count": 119,
   "metadata": {},
   "outputs": [
    {
     "data": {
      "image/png": "[encoded data removed]",
      "text/plain": [
       "<Figure size 432x288 with 1 Axes>"
      ]
     },
     "metadata": {
      "needs_background": "light"
     },
     "output_type": "display_data"
    }
   ],
   "source": [
    "Time = df_final['Time']\n",
    "delay = df_final['Min Delay']\n",
    "plt.scatter(delay,Time)\n",
    "plt.show()"
   ]
  },
  {
   "cell_type": "code",
   "execution_count": 129,
   "metadata": {},
   "outputs": [
    {
     "data": {
      "image/png": "[encoded data removed]",
      "text/plain": [
       "<Figure size 432x288 with 1 Axes>"
      ]
     },
     "metadata": {
      "needs_background": "light"
     },
     "output_type": "display_data"
    }
   ],
   "source": [
    "Time = df1['Time']\n",
    "delay = df1['Min Delay']\n",
    "plt.scatter(delay,Time)\n",
    "plt.show()"
   ]
  },
  {
   "cell_type": "code",
   "execution_count": 130,
   "metadata": {},
   "outputs": [
    {
     "data": {
      "image/png": "[encoded data removed]",
      "text/plain": [
       "<Figure size 432x288 with 1 Axes>"
      ]
     },
     "metadata": {
      "needs_background": "light"
     },
     "output_type": "display_data"
    }
   ],
   "source": [
    "Time = df2['Time']\n",
    "delay = df2['Min Delay']\n",
    "plt.scatter(delay,Time)\n",
    "plt.show()"
   ]
  },
  {
   "cell_type": "code",
   "execution_count": 131,
   "metadata": {},
   "outputs": [
    {
     "data": {
      "image/png": "[encoded data removed]",
      "text/plain": [
       "<Figure size 432x288 with 1 Axes>"
      ]
     },
     "metadata": {
      "needs_background": "light"
     },
     "output_type": "display_data"
    }
   ],
   "source": [
    "Time = df3['Time']\n",
    "delay = df3['Min Delay']\n",
    "plt.scatter(delay,Time)\n",
    "plt.show()"
   ]
  },
  {
   "cell_type": "code",
   "execution_count": null,
   "metadata": {},
   "outputs": [],
   "source": []
  }
 ],
 "metadata": {
  "kernelspec": {
   "display_name": "Python 3",
   "language": "python",
   "name": "python3"
  },
  "language_info": {
   "codemirror_mode": {
    "name": "ipython",
    "version": 3
   },
   "file_extension": ".py",
   "mimetype": "text/x-python",
   "name": "python",
   "nbconvert_exporter": "python",
   "pygments_lexer": "ipython3",
   "version": "3.7.6"
  }
 },
 "nbformat": 4,
 "nbformat_minor": 4
}
